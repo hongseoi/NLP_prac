{
 "cells": [
  {
   "attachments": {},
   "cell_type": "markdown",
   "metadata": {},
   "source": [
    "## 한글 형태소 분석기 활용\n",
    "- 맞춤법, 띄어쓰기 수정\n",
    "- 분석 대상 축소하여 명사만 추출\n",
    "- 불필요한 특수기호 제거\n",
    "- 형태소분석기, 정규표현식 라이브러리 사용\n",
    "- 형태소분석기\n",
    "    - 일반적으로 단어 자체보다 작은 최소단위의 어절로 자연어를 분해하여 품사를 식별해줄 수 있는 도구\n",
    "- 정규표현식\n",
    "    - 특정 문자열을 이용해서 검색, 수정, 삭제, 대체 등을 용이하게 하기 위해 개발된 패키지\n",
    "    "
   ]
  },
  {
   "attachments": {},
   "cell_type": "markdown",
   "metadata": {},
   "source": [
    "## 영문 형태소 분석\n",
    "- 형태소(morphemes): 의미를 가지는 가장 작은 단위\n",
    "- 말뭉치(corpus), 문서(document), 문단(paragraph), 문장(sentence), 형태소(morphs)\n",
    "- 문서들을 의미를 고려하여 토큰화하고 그 토큰을 기준으로 처리하기 용이하기에 형태소 분석기 활용\n",
    "- nltk(natural language toolkit)"
   ]
  },
  {
   "cell_type": "code",
   "execution_count": null,
   "metadata": {},
   "outputs": [],
   "source": []
  }
 ],
 "metadata": {
  "language_info": {
   "name": "python"
  },
  "orig_nbformat": 4
 },
 "nbformat": 4,
 "nbformat_minor": 2
}
