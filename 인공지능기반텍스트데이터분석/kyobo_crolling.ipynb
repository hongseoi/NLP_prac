{
 "cells": [
  {
   "cell_type": "code",
   "execution_count": 1,
   "metadata": {},
   "outputs": [],
   "source": [
    "from urllib.request import urlopen\n",
    "from bs4 import BeautifulSoup as bs\n",
    "import pandas as pd"
   ]
  },
  {
   "cell_type": "code",
   "execution_count": 3,
   "metadata": {},
   "outputs": [
    {
     "data": {
      "text/plain": [
       "['<!DOCTYPE html>',\n",
       " '<html data-service=\"product\" data-view=\"ink\" lang=\"ko\">',\n",
       " ' <head>',\n",
       " '  <meta content=\"2dlgBOp3K0s6wHjZo_Hkas6yaYPKZIVsmres9vC3F34\" name=\"google-site-verification\"/>',\n",
       " '  <meta charset=\"utf-8\"/>',\n",
       " '  <meta content=\"IE=edge\" http-equiv=\"X-UA-Compatible\"/>',\n",
       " '  <meta content=\"width=device-width, initial-scale=1, minimum-scale=1, maximum-scale=1\" name=\"viewport\"/>',\n",
       " '  <meta content=\" 종합 주간 베스트셀러 - 교보문고\" name=\"title\">',\n",
       " '   <meta content=\"교보문고 종합베스트셀러 페이지에서는 온라인과 매장에서 주문된 도서, 전자책의 주간 판매량을 집계하여 소개합니다.\" name=\"description\">',\n",
       " '    <meta content=\" 종합 주간 베스트셀러 - 교보문고\" property=\"og:title\">']"
      ]
     },
     "execution_count": 3,
     "metadata": {},
     "output_type": "execute_result"
    }
   ],
   "source": [
    "html = urlopen('https://product.kyobobook.co.kr/bestseller/total?period=002#?page=1&per=20&period=002&ymw=&bsslBksClstCode=A')\n",
    "soup = bs(html, \"html.parser\")\n",
    "soup.prettify().splitlines()[:10]"
   ]
  },
  {
   "cell_type": "code",
   "execution_count": 6,
   "metadata": {},
   "outputs": [
    {
     "data": {
      "text/plain": [
       "0"
      ]
     },
     "execution_count": 6,
     "metadata": {},
     "output_type": "execute_result"
    }
   ],
   "source": [
    "name = soup.select('a > span.prod_name')\n",
    "len(name)"
   ]
  },
  {
   "attachments": {},
   "cell_type": "markdown",
   "metadata": {},
   "source": [
    "- 아래 코드는 bs를 이용해 크롤링을 시도하였으나 작동하지 않음\n",
    "- 검색 결과 동적으로 생성되는 부분의 경우 bs를 통해 크롤링이 불가능\n",
    "    - [관련 블로그 글](https://conservative-vector.tistory.com/entry/%ED%8C%8C%EC%9D%B4%EC%8D%AC%EC%9C%BC%EB%A1%9C-%ED%81%AC%EB%A1%A4%EB%A7%81%ED%95%98%EB%8A%94%EB%8D%B0-%EA%B0%92%EC%9D%B4-%EC%95%88-%EC%9D%BD%EC%96%B4%EC%99%80%EC%A7%88%EB%95%8C-%ED%95%B4%EA%B2%B0%EB%B2%95)\n",
    "- 동적 페이지의 경우 selenium을 이용해야 함\n"
   ]
  },
  {
   "cell_type": "code",
   "execution_count": 14,
   "metadata": {},
   "outputs": [
    {
     "data": {
      "text/plain": [
       "[]"
      ]
     },
     "execution_count": 14,
     "metadata": {},
     "output_type": "execute_result"
    }
   ],
   "source": [
    "book_page_urls = []\n",
    "for cover in soup.find_all('div', {'class':'detail'}):\n",
    "    link = cover.select('a')[0].get('href')\n",
    "    book_page_urls.append(link)\n",
    "book_page_urls"
   ]
  },
  {
   "cell_type": "code",
   "execution_count": 15,
   "metadata": {},
   "outputs": [
    {
     "data": {
      "text/html": [
       "<div>\n",
       "<style scoped>\n",
       "    .dataframe tbody tr th:only-of-type {\n",
       "        vertical-align: middle;\n",
       "    }\n",
       "\n",
       "    .dataframe tbody tr th {\n",
       "        vertical-align: top;\n",
       "    }\n",
       "\n",
       "    .dataframe thead th {\n",
       "        text-align: right;\n",
       "    }\n",
       "</style>\n",
       "<table border=\"1\" class=\"dataframe\">\n",
       "  <thead>\n",
       "    <tr style=\"text-align: right;\">\n",
       "      <th></th>\n",
       "    </tr>\n",
       "  </thead>\n",
       "  <tbody>\n",
       "  </tbody>\n",
       "</table>\n",
       "</div>"
      ],
      "text/plain": [
       "Empty DataFrame\n",
       "Columns: []\n",
       "Index: []"
      ]
     },
     "execution_count": 15,
     "metadata": {},
     "output_type": "execute_result"
    }
   ],
   "source": [
    "dic = []\n",
    "for index, book_page_url in enumerate(book_page_urls):\n",
    "    html = urlopen(book_page_url).read().decode('euc-kr', 'replace')\n",
    "    soup = bs(html, \"html.parser\")\n",
    "    title = soup.find('meta', {'property':'og:title'}).get('content')\n",
    "    author = soup.find('meta',{'name':'author'}).get('content')\n",
    "    price = soup.find('meta', {'property':'og:price'}).get('content')\n",
    "    dic.append({'Title':title,'Author' : author,'Price':price+'원'})\n",
    "\n",
    "pd.DataFrame(dic)"
   ]
  },
  {
   "cell_type": "code",
   "execution_count": null,
   "metadata": {},
   "outputs": [],
   "source": []
  }
 ],
 "metadata": {
  "kernelspec": {
   "display_name": "Python 3",
   "language": "python",
   "name": "python3"
  },
  "language_info": {
   "codemirror_mode": {
    "name": "ipython",
    "version": 3
   },
   "file_extension": ".py",
   "mimetype": "text/x-python",
   "name": "python",
   "nbconvert_exporter": "python",
   "pygments_lexer": "ipython3",
   "version": "3.9.13"
  },
  "orig_nbformat": 4
 },
 "nbformat": 4,
 "nbformat_minor": 2
}
