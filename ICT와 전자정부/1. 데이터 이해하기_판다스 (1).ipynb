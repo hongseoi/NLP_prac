{
 "cells": [
  {
   "cell_type": "markdown",
   "metadata": {
    "id": "Zpe8IgH2_aor"
   },
   "source": [
    "\n",
    "## 프로그래밍 기반 데이터 전처리"
   ]
  },
  {
   "cell_type": "code",
   "execution_count": 1,
   "metadata": {
    "executionInfo": {
     "elapsed": 523,
     "status": "ok",
     "timestamp": 1651039935869,
     "user": {
      "displayName": "KB B",
      "userId": "11354211341635718237"
     },
     "user_tz": -540
    },
    "id": "_rEL6mz4_gqv"
   },
   "outputs": [],
   "source": [
    "import pandas"
   ]
  },
  {
   "cell_type": "code",
   "execution_count": 2,
   "metadata": {
    "executionInfo": {
     "elapsed": 502,
     "status": "ok",
     "timestamp": 1651039991490,
     "user": {
      "displayName": "KB B",
      "userId": "11354211341635718237"
     },
     "user_tz": -540
    },
    "id": "4j9iUjRf_oM3"
   },
   "outputs": [],
   "source": [
    "import pandas as pd # 별칭을 지어보자"
   ]
  },
  {
   "cell_type": "markdown",
   "metadata": {
    "id": "e3_sFoJhP_YV"
   },
   "source": [
    "pandas의 series와 dataframe\n",
    "\n",
    "1. 1차원 1개의 colunmn은 series라고 합니다\n",
    "2. 2차원 데이터는 data frame 이라고 함"
   ]
  },
  {
   "cell_type": "code",
   "execution_count": 3,
   "metadata": {
    "colab": {
     "base_uri": "https://localhost:8080/"
    },
    "executionInfo": {
     "elapsed": 493,
     "status": "ok",
     "timestamp": 1651040015530,
     "user": {
      "displayName": "KB B",
      "userId": "11354211341635718237"
     },
     "user_tz": -540
    },
    "id": "z5r9NDQh_qE6",
    "outputId": "962e9c64-4488-401e-c490-1088dc9d4604"
   },
   "outputs": [
    {
     "data": {
      "text/plain": [
       "0    1\n",
       "1    2\n",
       "2    3\n",
       "3    4\n",
       "dtype: int64"
      ]
     },
     "execution_count": 3,
     "metadata": {},
     "output_type": "execute_result"
    }
   ],
   "source": [
    "pd.Series([1, 2, 3, 4]) # S는 대문자"
   ]
  },
  {
   "cell_type": "code",
   "execution_count": 5,
   "metadata": {
    "executionInfo": {
     "elapsed": 515,
     "status": "ok",
     "timestamp": 1651040136717,
     "user": {
      "displayName": "KB B",
      "userId": "11354211341635718237"
     },
     "user_tz": -540
    },
    "id": "_1Lsqb4B_r2V"
   },
   "outputs": [],
   "source": [
    "companyAD = [['삼성전자', '갤럭시S20', 5000],\n",
    "              ['현대', '펠리세이드', 1000],\n",
    "              ['네이버', '네이버패이', 500]]"
   ]
  },
  {
   "cell_type": "code",
   "execution_count": 7,
   "metadata": {
    "colab": {
     "base_uri": "https://localhost:8080/",
     "height": 143
    },
    "executionInfo": {
     "elapsed": 491,
     "status": "ok",
     "timestamp": 1651040162841,
     "user": {
      "displayName": "KB B",
      "userId": "11354211341635718237"
     },
     "user_tz": -540
    },
    "id": "l0dqNkzW_ujj",
    "outputId": "64736a8b-490e-4bad-a3b4-bc10ba1adb2e"
   },
   "outputs": [
    {
     "data": {
      "text/html": [
       "<div>\n",
       "<style scoped>\n",
       "    .dataframe tbody tr th:only-of-type {\n",
       "        vertical-align: middle;\n",
       "    }\n",
       "\n",
       "    .dataframe tbody tr th {\n",
       "        vertical-align: top;\n",
       "    }\n",
       "\n",
       "    .dataframe thead th {\n",
       "        text-align: right;\n",
       "    }\n",
       "</style>\n",
       "<table border=\"1\" class=\"dataframe\">\n",
       "  <thead>\n",
       "    <tr style=\"text-align: right;\">\n",
       "      <th></th>\n",
       "      <th>0</th>\n",
       "      <th>1</th>\n",
       "      <th>2</th>\n",
       "    </tr>\n",
       "  </thead>\n",
       "  <tbody>\n",
       "    <tr>\n",
       "      <th>0</th>\n",
       "      <td>삼성전자</td>\n",
       "      <td>갤럭시S20</td>\n",
       "      <td>5000</td>\n",
       "    </tr>\n",
       "    <tr>\n",
       "      <th>1</th>\n",
       "      <td>현대</td>\n",
       "      <td>펠리세이드</td>\n",
       "      <td>1000</td>\n",
       "    </tr>\n",
       "    <tr>\n",
       "      <th>2</th>\n",
       "      <td>네이버</td>\n",
       "      <td>네이버패이</td>\n",
       "      <td>500</td>\n",
       "    </tr>\n",
       "  </tbody>\n",
       "</table>\n",
       "</div>"
      ],
      "text/plain": [
       "      0       1     2\n",
       "0  삼성전자  갤럭시S20  5000\n",
       "1    현대   펠리세이드  1000\n",
       "2   네이버   네이버패이   500"
      ]
     },
     "execution_count": 7,
     "metadata": {},
     "output_type": "execute_result"
    }
   ],
   "source": [
    "df = pd.DataFrame(companyAD)\n",
    "df"
   ]
  },
  {
   "cell_type": "code",
   "execution_count": 8,
   "metadata": {
    "colab": {
     "base_uri": "https://localhost:8080/",
     "height": 143
    },
    "executionInfo": {
     "elapsed": 527,
     "status": "ok",
     "timestamp": 1651040214688,
     "user": {
      "displayName": "KB B",
      "userId": "11354211341635718237"
     },
     "user_tz": -540
    },
    "id": "rBb9U0TF_wZs",
    "outputId": "76d53780-8c02-4e7a-a6a8-29b1444d3541"
   },
   "outputs": [
    {
     "data": {
      "text/html": [
       "<div>\n",
       "<style scoped>\n",
       "    .dataframe tbody tr th:only-of-type {\n",
       "        vertical-align: middle;\n",
       "    }\n",
       "\n",
       "    .dataframe tbody tr th {\n",
       "        vertical-align: top;\n",
       "    }\n",
       "\n",
       "    .dataframe thead th {\n",
       "        text-align: right;\n",
       "    }\n",
       "</style>\n",
       "<table border=\"1\" class=\"dataframe\">\n",
       "  <thead>\n",
       "    <tr style=\"text-align: right;\">\n",
       "      <th></th>\n",
       "      <th>광고주</th>\n",
       "      <th>브랜드</th>\n",
       "      <th>집행금액</th>\n",
       "    </tr>\n",
       "  </thead>\n",
       "  <tbody>\n",
       "    <tr>\n",
       "      <th>0</th>\n",
       "      <td>삼성전자</td>\n",
       "      <td>갤럭시S20</td>\n",
       "      <td>5000</td>\n",
       "    </tr>\n",
       "    <tr>\n",
       "      <th>1</th>\n",
       "      <td>현대</td>\n",
       "      <td>펠리세이드</td>\n",
       "      <td>1000</td>\n",
       "    </tr>\n",
       "    <tr>\n",
       "      <th>2</th>\n",
       "      <td>네이버</td>\n",
       "      <td>네이버패이</td>\n",
       "      <td>500</td>\n",
       "    </tr>\n",
       "  </tbody>\n",
       "</table>\n",
       "</div>"
      ],
      "text/plain": [
       "    광고주     브랜드  집행금액\n",
       "0  삼성전자  갤럭시S20  5000\n",
       "1    현대   펠리세이드  1000\n",
       "2   네이버   네이버패이   500"
      ]
     },
     "execution_count": 8,
     "metadata": {},
     "output_type": "execute_result"
    }
   ],
   "source": [
    "df.columns = ['광고주', '브랜드', '집행금액']\n",
    "df"
   ]
  },
  {
   "cell_type": "code",
   "execution_count": 9,
   "metadata": {
    "colab": {
     "base_uri": "https://localhost:8080/"
    },
    "executionInfo": {
     "elapsed": 490,
     "status": "ok",
     "timestamp": 1651040248295,
     "user": {
      "displayName": "KB B",
      "userId": "11354211341635718237"
     },
     "user_tz": -540
    },
    "id": "aGTkf_dRAKxb",
    "outputId": "a3d76519-1158-4579-e50b-d88c97793140"
   },
   "outputs": [
    {
     "data": {
      "text/plain": [
       "0    삼성전자\n",
       "1      현대\n",
       "2     네이버\n",
       "Name: 광고주, dtype: object"
      ]
     },
     "execution_count": 9,
     "metadata": {},
     "output_type": "execute_result"
    }
   ],
   "source": [
    "df['광고주']"
   ]
  },
  {
   "cell_type": "code",
   "execution_count": 10,
   "metadata": {},
   "outputs": [
    {
     "data": {
      "text/html": [
       "<div>\n",
       "<style scoped>\n",
       "    .dataframe tbody tr th:only-of-type {\n",
       "        vertical-align: middle;\n",
       "    }\n",
       "\n",
       "    .dataframe tbody tr th {\n",
       "        vertical-align: top;\n",
       "    }\n",
       "\n",
       "    .dataframe thead th {\n",
       "        text-align: right;\n",
       "    }\n",
       "</style>\n",
       "<table border=\"1\" class=\"dataframe\">\n",
       "  <thead>\n",
       "    <tr style=\"text-align: right;\">\n",
       "      <th></th>\n",
       "      <th>광고주</th>\n",
       "      <th>브랜드</th>\n",
       "      <th>시작일</th>\n",
       "      <th>종료일</th>\n",
       "      <th>Impression</th>\n",
       "      <th>Click</th>\n",
       "      <th>재생 완료</th>\n",
       "    </tr>\n",
       "  </thead>\n",
       "  <tbody>\n",
       "    <tr>\n",
       "      <th>0</th>\n",
       "      <td>(유) AAA</td>\n",
       "      <td>브랜드 1</td>\n",
       "      <td>2020-08-01</td>\n",
       "      <td>2020-08-31</td>\n",
       "      <td>11615</td>\n",
       "      <td>72.0</td>\n",
       "      <td>1937</td>\n",
       "    </tr>\n",
       "    <tr>\n",
       "      <th>1</th>\n",
       "      <td>㈜ BBB</td>\n",
       "      <td>브래드 2</td>\n",
       "      <td>2020-08-01</td>\n",
       "      <td>2020-08-31</td>\n",
       "      <td>3077</td>\n",
       "      <td>11.0</td>\n",
       "      <td>2070</td>\n",
       "    </tr>\n",
       "    <tr>\n",
       "      <th>2</th>\n",
       "      <td>㈜ CCC</td>\n",
       "      <td>브래드 3</td>\n",
       "      <td>2020-07-24</td>\n",
       "      <td>2020-08-31</td>\n",
       "      <td>8107</td>\n",
       "      <td>25.0</td>\n",
       "      <td>5211</td>\n",
       "    </tr>\n",
       "    <tr>\n",
       "      <th>3</th>\n",
       "      <td>NaN</td>\n",
       "      <td>브래드 4</td>\n",
       "      <td>2020-08-04</td>\n",
       "      <td>2020-08-10</td>\n",
       "      <td>1023737</td>\n",
       "      <td>5275.0</td>\n",
       "      <td>195422</td>\n",
       "    </tr>\n",
       "    <tr>\n",
       "      <th>4</th>\n",
       "      <td>㈜ DDD</td>\n",
       "      <td>브래드 5</td>\n",
       "      <td>2020-06-25</td>\n",
       "      <td>2020-08-19</td>\n",
       "      <td>1715</td>\n",
       "      <td>6.0</td>\n",
       "      <td>1091</td>\n",
       "    </tr>\n",
       "    <tr>\n",
       "      <th>5</th>\n",
       "      <td>㈜ EEE</td>\n",
       "      <td>브래드 6</td>\n",
       "      <td>2020-08-01</td>\n",
       "      <td>2020-08-31</td>\n",
       "      <td>5832</td>\n",
       "      <td>16.0</td>\n",
       "      <td>1264</td>\n",
       "    </tr>\n",
       "    <tr>\n",
       "      <th>6</th>\n",
       "      <td>㈜ FFF</td>\n",
       "      <td>브래드 7</td>\n",
       "      <td>2020-07-03</td>\n",
       "      <td>2020-08-17</td>\n",
       "      <td>1851</td>\n",
       "      <td>NaN</td>\n",
       "      <td>1123</td>\n",
       "    </tr>\n",
       "    <tr>\n",
       "      <th>7</th>\n",
       "      <td>㈜ GGG</td>\n",
       "      <td>브래드 8</td>\n",
       "      <td>2020-06-26</td>\n",
       "      <td>2020-08-31</td>\n",
       "      <td>63082</td>\n",
       "      <td>73.0</td>\n",
       "      <td>48945</td>\n",
       "    </tr>\n",
       "    <tr>\n",
       "      <th>8</th>\n",
       "      <td>㈜ GGG</td>\n",
       "      <td>브래드 9</td>\n",
       "      <td>2020-08-01</td>\n",
       "      <td>2020-10-14</td>\n",
       "      <td>28246</td>\n",
       "      <td>129.0</td>\n",
       "      <td>8624</td>\n",
       "    </tr>\n",
       "    <tr>\n",
       "      <th>9</th>\n",
       "      <td>㈜ GGG</td>\n",
       "      <td>브래드 10</td>\n",
       "      <td>2020-07-10</td>\n",
       "      <td>2020-09-30</td>\n",
       "      <td>25170</td>\n",
       "      <td>34.0</td>\n",
       "      <td>14500</td>\n",
       "    </tr>\n",
       "    <tr>\n",
       "      <th>10</th>\n",
       "      <td>㈜ HHH</td>\n",
       "      <td>브래드 11</td>\n",
       "      <td>2020-08-01</td>\n",
       "      <td>2020-08-31</td>\n",
       "      <td>5674</td>\n",
       "      <td>27.0</td>\n",
       "      <td>1525</td>\n",
       "    </tr>\n",
       "    <tr>\n",
       "      <th>11</th>\n",
       "      <td>NaN</td>\n",
       "      <td>브래드 12</td>\n",
       "      <td>2020-08-01</td>\n",
       "      <td>2020-08-31</td>\n",
       "      <td>10869</td>\n",
       "      <td>35.0</td>\n",
       "      <td>8122</td>\n",
       "    </tr>\n",
       "    <tr>\n",
       "      <th>12</th>\n",
       "      <td>㈜ III</td>\n",
       "      <td>브래드 13</td>\n",
       "      <td>2020-08-01</td>\n",
       "      <td>2020-08-31</td>\n",
       "      <td>144739</td>\n",
       "      <td>342.0</td>\n",
       "      <td>111435</td>\n",
       "    </tr>\n",
       "    <tr>\n",
       "      <th>13</th>\n",
       "      <td>㈜ JJJ</td>\n",
       "      <td>브래드 14</td>\n",
       "      <td>2020-08-01</td>\n",
       "      <td>2020-08-31</td>\n",
       "      <td>2595</td>\n",
       "      <td>2.0</td>\n",
       "      <td>1929</td>\n",
       "    </tr>\n",
       "    <tr>\n",
       "      <th>14</th>\n",
       "      <td>㈜ KKK</td>\n",
       "      <td>브래드 15</td>\n",
       "      <td>2020-07-31</td>\n",
       "      <td>2020-08-20</td>\n",
       "      <td>16413</td>\n",
       "      <td>57.0</td>\n",
       "      <td>11269</td>\n",
       "    </tr>\n",
       "    <tr>\n",
       "      <th>15</th>\n",
       "      <td>㈜ LLL</td>\n",
       "      <td>브래드 16</td>\n",
       "      <td>2020-07-01</td>\n",
       "      <td>2020-08-16</td>\n",
       "      <td>33930</td>\n",
       "      <td>NaN</td>\n",
       "      <td>25111</td>\n",
       "    </tr>\n",
       "    <tr>\n",
       "      <th>16</th>\n",
       "      <td>㈜ MMM</td>\n",
       "      <td>브래드 17</td>\n",
       "      <td>2020-07-31</td>\n",
       "      <td>2020-08-13</td>\n",
       "      <td>6977</td>\n",
       "      <td>29.0</td>\n",
       "      <td>4286</td>\n",
       "    </tr>\n",
       "    <tr>\n",
       "      <th>17</th>\n",
       "      <td>㈜ NNN</td>\n",
       "      <td>브래드 18</td>\n",
       "      <td>2020-07-10</td>\n",
       "      <td>2020-08-08</td>\n",
       "      <td>6873</td>\n",
       "      <td>68.0</td>\n",
       "      <td>1728</td>\n",
       "    </tr>\n",
       "    <tr>\n",
       "      <th>18</th>\n",
       "      <td>㈜ OOO</td>\n",
       "      <td>브래드 19</td>\n",
       "      <td>2020-07-24</td>\n",
       "      <td>2020-08-31</td>\n",
       "      <td>15970</td>\n",
       "      <td>43.0</td>\n",
       "      <td>10961</td>\n",
       "    </tr>\n",
       "  </tbody>\n",
       "</table>\n",
       "</div>"
      ],
      "text/plain": [
       "        광고주     브랜드         시작일         종료일  Impression   Click   재생 완료\n",
       "0   (유) AAA   브랜드 1  2020-08-01  2020-08-31       11615    72.0    1937\n",
       "1     ㈜ BBB   브래드 2  2020-08-01  2020-08-31        3077    11.0    2070\n",
       "2     ㈜ CCC   브래드 3  2020-07-24  2020-08-31        8107    25.0    5211\n",
       "3       NaN   브래드 4  2020-08-04  2020-08-10     1023737  5275.0  195422\n",
       "4     ㈜ DDD   브래드 5  2020-06-25  2020-08-19        1715     6.0    1091\n",
       "5     ㈜ EEE   브래드 6  2020-08-01  2020-08-31        5832    16.0    1264\n",
       "6     ㈜ FFF   브래드 7  2020-07-03  2020-08-17        1851     NaN    1123\n",
       "7     ㈜ GGG   브래드 8  2020-06-26  2020-08-31       63082    73.0   48945\n",
       "8     ㈜ GGG   브래드 9  2020-08-01  2020-10-14       28246   129.0    8624\n",
       "9     ㈜ GGG  브래드 10  2020-07-10  2020-09-30       25170    34.0   14500\n",
       "10    ㈜ HHH  브래드 11  2020-08-01  2020-08-31        5674    27.0    1525\n",
       "11      NaN  브래드 12  2020-08-01  2020-08-31       10869    35.0    8122\n",
       "12    ㈜ III  브래드 13  2020-08-01  2020-08-31      144739   342.0  111435\n",
       "13    ㈜ JJJ  브래드 14  2020-08-01  2020-08-31        2595     2.0    1929\n",
       "14    ㈜ KKK  브래드 15  2020-07-31  2020-08-20       16413    57.0   11269\n",
       "15    ㈜ LLL  브래드 16  2020-07-01  2020-08-16       33930     NaN   25111\n",
       "16    ㈜ MMM  브래드 17  2020-07-31  2020-08-13        6977    29.0    4286\n",
       "17    ㈜ NNN  브래드 18  2020-07-10  2020-08-08        6873    68.0    1728\n",
       "18    ㈜ OOO  브래드 19  2020-07-24  2020-08-31       15970    43.0   10961"
      ]
     },
     "execution_count": 10,
     "metadata": {},
     "output_type": "execute_result"
    }
   ],
   "source": [
    "df2 = pd.read_csv('http://scottyoon.cafe24.com/data/brand_ad_ex.csv')\n",
    "df2"
   ]
  },
  {
   "cell_type": "code",
   "execution_count": 12,
   "metadata": {},
   "outputs": [
    {
     "data": {
      "text/html": [
       "<div>\n",
       "<style scoped>\n",
       "    .dataframe tbody tr th:only-of-type {\n",
       "        vertical-align: middle;\n",
       "    }\n",
       "\n",
       "    .dataframe tbody tr th {\n",
       "        vertical-align: top;\n",
       "    }\n",
       "\n",
       "    .dataframe thead th {\n",
       "        text-align: right;\n",
       "    }\n",
       "</style>\n",
       "<table border=\"1\" class=\"dataframe\">\n",
       "  <thead>\n",
       "    <tr style=\"text-align: right;\">\n",
       "      <th></th>\n",
       "      <th>광고주</th>\n",
       "      <th>집행금액</th>\n",
       "    </tr>\n",
       "  </thead>\n",
       "  <tbody>\n",
       "    <tr>\n",
       "      <th>0</th>\n",
       "      <td>삼성전자</td>\n",
       "      <td>5000</td>\n",
       "    </tr>\n",
       "    <tr>\n",
       "      <th>1</th>\n",
       "      <td>현대</td>\n",
       "      <td>1000</td>\n",
       "    </tr>\n",
       "    <tr>\n",
       "      <th>2</th>\n",
       "      <td>네이버</td>\n",
       "      <td>500</td>\n",
       "    </tr>\n",
       "  </tbody>\n",
       "</table>\n",
       "</div>"
      ],
      "text/plain": [
       "    광고주  집행금액\n",
       "0  삼성전자  5000\n",
       "1    현대  1000\n",
       "2   네이버   500"
      ]
     },
     "execution_count": 12,
     "metadata": {},
     "output_type": "execute_result"
    }
   ],
   "source": [
    "df[['광고주', '집행금액']]"
   ]
  },
  {
   "cell_type": "code",
   "execution_count": 13,
   "metadata": {},
   "outputs": [
    {
     "data": {
      "text/plain": [
       "Index(['광고주', '브랜드', '집행금액'], dtype='object')"
      ]
     },
     "execution_count": 13,
     "metadata": {},
     "output_type": "execute_result"
    }
   ],
   "source": [
    "df.columns"
   ]
  },
  {
   "cell_type": "code",
   "execution_count": 16,
   "metadata": {},
   "outputs": [],
   "source": [
    "new_col = ['adv', 'brand', 'price']"
   ]
  },
  {
   "cell_type": "code",
   "execution_count": 17,
   "metadata": {},
   "outputs": [],
   "source": [
    "df.columns = new_col"
   ]
  },
  {
   "cell_type": "code",
   "execution_count": 18,
   "metadata": {},
   "outputs": [
    {
     "data": {
      "text/html": [
       "<div>\n",
       "<style scoped>\n",
       "    .dataframe tbody tr th:only-of-type {\n",
       "        vertical-align: middle;\n",
       "    }\n",
       "\n",
       "    .dataframe tbody tr th {\n",
       "        vertical-align: top;\n",
       "    }\n",
       "\n",
       "    .dataframe thead th {\n",
       "        text-align: right;\n",
       "    }\n",
       "</style>\n",
       "<table border=\"1\" class=\"dataframe\">\n",
       "  <thead>\n",
       "    <tr style=\"text-align: right;\">\n",
       "      <th></th>\n",
       "      <th>adv</th>\n",
       "      <th>brand</th>\n",
       "      <th>price</th>\n",
       "    </tr>\n",
       "  </thead>\n",
       "  <tbody>\n",
       "    <tr>\n",
       "      <th>0</th>\n",
       "      <td>삼성전자</td>\n",
       "      <td>갤럭시S20</td>\n",
       "      <td>5000</td>\n",
       "    </tr>\n",
       "    <tr>\n",
       "      <th>1</th>\n",
       "      <td>현대</td>\n",
       "      <td>펠리세이드</td>\n",
       "      <td>1000</td>\n",
       "    </tr>\n",
       "    <tr>\n",
       "      <th>2</th>\n",
       "      <td>네이버</td>\n",
       "      <td>네이버패이</td>\n",
       "      <td>500</td>\n",
       "    </tr>\n",
       "  </tbody>\n",
       "</table>\n",
       "</div>"
      ],
      "text/plain": [
       "    adv   brand  price\n",
       "0  삼성전자  갤럭시S20   5000\n",
       "1    현대   펠리세이드   1000\n",
       "2   네이버   네이버패이    500"
      ]
     },
     "execution_count": 18,
     "metadata": {},
     "output_type": "execute_result"
    }
   ],
   "source": [
    "df"
   ]
  },
  {
   "cell_type": "code",
   "execution_count": 23,
   "metadata": {},
   "outputs": [
    {
     "data": {
      "text/plain": [
       "<bound method DataFrame.info of         광고주     브랜드         시작일         종료일  Impression   Click   재생 완료\n",
       "0   (유) AAA   브랜드 1  2020-08-01  2020-08-31       11615    72.0    1937\n",
       "1     ㈜ BBB   브래드 2  2020-08-01  2020-08-31        3077    11.0    2070\n",
       "2     ㈜ CCC   브래드 3  2020-07-24  2020-08-31        8107    25.0    5211\n",
       "3       NaN   브래드 4  2020-08-04  2020-08-10     1023737  5275.0  195422\n",
       "4     ㈜ DDD   브래드 5  2020-06-25  2020-08-19        1715     6.0    1091\n",
       "5     ㈜ EEE   브래드 6  2020-08-01  2020-08-31        5832    16.0    1264\n",
       "6     ㈜ FFF   브래드 7  2020-07-03  2020-08-17        1851     NaN    1123\n",
       "7     ㈜ GGG   브래드 8  2020-06-26  2020-08-31       63082    73.0   48945\n",
       "8     ㈜ GGG   브래드 9  2020-08-01  2020-10-14       28246   129.0    8624\n",
       "9     ㈜ GGG  브래드 10  2020-07-10  2020-09-30       25170    34.0   14500\n",
       "10    ㈜ HHH  브래드 11  2020-08-01  2020-08-31        5674    27.0    1525\n",
       "11      NaN  브래드 12  2020-08-01  2020-08-31       10869    35.0    8122\n",
       "12    ㈜ III  브래드 13  2020-08-01  2020-08-31      144739   342.0  111435\n",
       "13    ㈜ JJJ  브래드 14  2020-08-01  2020-08-31        2595     2.0    1929\n",
       "14    ㈜ KKK  브래드 15  2020-07-31  2020-08-20       16413    57.0   11269\n",
       "15    ㈜ LLL  브래드 16  2020-07-01  2020-08-16       33930     NaN   25111\n",
       "16    ㈜ MMM  브래드 17  2020-07-31  2020-08-13        6977    29.0    4286\n",
       "17    ㈜ NNN  브래드 18  2020-07-10  2020-08-08        6873    68.0    1728\n",
       "18    ㈜ OOO  브래드 19  2020-07-24  2020-08-31       15970    43.0   10961>"
      ]
     },
     "execution_count": 23,
     "metadata": {},
     "output_type": "execute_result"
    }
   ],
   "source": [
    "df2.info"
   ]
  },
  {
   "cell_type": "code",
   "execution_count": null,
   "metadata": {},
   "outputs": [],
   "source": []
  }
 ],
 "metadata": {
  "colab": {
   "collapsed_sections": [],
   "name": "1. 데이터 이해하기_판다스.ipynb",
   "provenance": []
  },
  "kernelspec": {
   "display_name": "Python 3 (ipykernel)",
   "language": "python",
   "name": "python3"
  },
  "language_info": {
   "codemirror_mode": {
    "name": "ipython",
    "version": 3
   },
   "file_extension": ".py",
   "mimetype": "text/x-python",
   "name": "python",
   "nbconvert_exporter": "python",
   "pygments_lexer": "ipython3",
   "version": "3.9.13"
  }
 },
 "nbformat": 4,
 "nbformat_minor": 1
}
