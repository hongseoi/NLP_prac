{
 "cells": [
  {
   "cell_type": "markdown",
   "metadata": {
    "id": "3kmN8zV0DCLG"
   },
   "source": [
    "\n",
    "## 프로그래밍 기반 데이터 전처리"
   ]
  },
  {
   "cell_type": "markdown",
   "metadata": {
    "id": "Qm4XAD_IDIxL"
   },
   "source": [
    "###1) index를 활용한 범위 선택"
   ]
  },
  {
   "cell_type": "code",
   "execution_count": null,
   "metadata": {
    "id": "XWuGCsr_DOC-"
   },
   "outputs": [],
   "source": [
    "import pandas as pd"
   ]
  },
  {
   "cell_type": "code",
   "execution_count": null,
   "metadata": {
    "id": "IKAKTrL0DQKp"
   },
   "outputs": [],
   "source": [
    "df = pd.read_csv('http://scottyoon.cafe24.com/data/brand_ad_ex.csv')"
   ]
  },
  {
   "cell_type": "code",
   "execution_count": null,
   "metadata": {
    "colab": {
     "base_uri": "https://localhost:8080/",
     "height": 110
    },
    "executionInfo": {
     "elapsed": 761,
     "status": "ok",
     "timestamp": 1609137201084,
     "user": {
      "displayName": "yoon scott",
      "photoUrl": "",
      "userId": "15551753620791483510"
     },
     "user_tz": -540
    },
    "id": "Ycrqgv04DRdv",
    "outputId": "cd81f8aa-5652-4052-eeb8-6cdba9be1efd"
   },
   "outputs": [
    {
     "data": {
      "text/html": [
       "<div>\n",
       "<style scoped>\n",
       "    .dataframe tbody tr th:only-of-type {\n",
       "        vertical-align: middle;\n",
       "    }\n",
       "\n",
       "    .dataframe tbody tr th {\n",
       "        vertical-align: top;\n",
       "    }\n",
       "\n",
       "    .dataframe thead th {\n",
       "        text-align: right;\n",
       "    }\n",
       "</style>\n",
       "<table border=\"1\" class=\"dataframe\">\n",
       "  <thead>\n",
       "    <tr style=\"text-align: right;\">\n",
       "      <th></th>\n",
       "      <th>광고주</th>\n",
       "      <th>브랜드</th>\n",
       "      <th>시작일</th>\n",
       "      <th>종료일</th>\n",
       "      <th>Impression</th>\n",
       "      <th>Click</th>\n",
       "      <th>재생 완료</th>\n",
       "    </tr>\n",
       "  </thead>\n",
       "  <tbody>\n",
       "    <tr>\n",
       "      <th>3</th>\n",
       "      <td>NaN</td>\n",
       "      <td>브래드 4</td>\n",
       "      <td>2020-08-04</td>\n",
       "      <td>2020-08-10</td>\n",
       "      <td>1023737</td>\n",
       "      <td>5275.0</td>\n",
       "      <td>195422</td>\n",
       "    </tr>\n",
       "    <tr>\n",
       "      <th>4</th>\n",
       "      <td>㈜ DDD</td>\n",
       "      <td>브래드 5</td>\n",
       "      <td>2020-06-25</td>\n",
       "      <td>2020-08-19</td>\n",
       "      <td>1715</td>\n",
       "      <td>6.0</td>\n",
       "      <td>1091</td>\n",
       "    </tr>\n",
       "  </tbody>\n",
       "</table>\n",
       "</div>"
      ],
      "text/plain": [
       "     광고주    브랜드         시작일         종료일  Impression   Click   재생 완료\n",
       "3    NaN  브래드 4  2020-08-04  2020-08-10     1023737  5275.0  195422\n",
       "4  ㈜ DDD  브래드 5  2020-06-25  2020-08-19        1715     6.0    1091"
      ]
     },
     "execution_count": 3,
     "metadata": {
      "tags": []
     },
     "output_type": "execute_result"
    }
   ],
   "source": [
    "df[3:5] # 인덱스 번호 3번부터 4번까지"
   ]
  },
  {
   "cell_type": "code",
   "execution_count": null,
   "metadata": {
    "colab": {
     "base_uri": "https://localhost:8080/",
     "height": 202
    },
    "executionInfo": {
     "elapsed": 712,
     "status": "ok",
     "timestamp": 1609137209710,
     "user": {
      "displayName": "yoon scott",
      "photoUrl": "",
      "userId": "15551753620791483510"
     },
     "user_tz": -540
    },
    "id": "h4RKWxrUDTjJ",
    "outputId": "24dcbab9-7b88-4441-b532-6f255341d613"
   },
   "outputs": [
    {
     "data": {
      "text/html": [
       "<div>\n",
       "<style scoped>\n",
       "    .dataframe tbody tr th:only-of-type {\n",
       "        vertical-align: middle;\n",
       "    }\n",
       "\n",
       "    .dataframe tbody tr th {\n",
       "        vertical-align: top;\n",
       "    }\n",
       "\n",
       "    .dataframe thead th {\n",
       "        text-align: right;\n",
       "    }\n",
       "</style>\n",
       "<table border=\"1\" class=\"dataframe\">\n",
       "  <thead>\n",
       "    <tr style=\"text-align: right;\">\n",
       "      <th></th>\n",
       "      <th>광고주</th>\n",
       "      <th>시작일</th>\n",
       "    </tr>\n",
       "  </thead>\n",
       "  <tbody>\n",
       "    <tr>\n",
       "      <th>3</th>\n",
       "      <td>NaN</td>\n",
       "      <td>2020-08-04</td>\n",
       "    </tr>\n",
       "    <tr>\n",
       "      <th>4</th>\n",
       "      <td>㈜ DDD</td>\n",
       "      <td>2020-06-25</td>\n",
       "    </tr>\n",
       "    <tr>\n",
       "      <th>5</th>\n",
       "      <td>㈜ EEE</td>\n",
       "      <td>2020-08-01</td>\n",
       "    </tr>\n",
       "    <tr>\n",
       "      <th>6</th>\n",
       "      <td>㈜ FFF</td>\n",
       "      <td>2020-07-03</td>\n",
       "    </tr>\n",
       "    <tr>\n",
       "      <th>7</th>\n",
       "      <td>㈜ GGG</td>\n",
       "      <td>2020-06-26</td>\n",
       "    </tr>\n",
       "  </tbody>\n",
       "</table>\n",
       "</div>"
      ],
      "text/plain": [
       "     광고주         시작일\n",
       "3    NaN  2020-08-04\n",
       "4  ㈜ DDD  2020-06-25\n",
       "5  ㈜ EEE  2020-08-01\n",
       "6  ㈜ FFF  2020-07-03\n",
       "7  ㈜ GGG  2020-06-26"
      ]
     },
     "execution_count": 4,
     "metadata": {
      "tags": []
     },
     "output_type": "execute_result"
    }
   ],
   "source": [
    "df.iloc[3:8, [0, 2]]"
   ]
  },
  {
   "cell_type": "code",
   "execution_count": null,
   "metadata": {
    "colab": {
     "base_uri": "https://localhost:8080/",
     "height": 202
    },
    "executionInfo": {
     "elapsed": 749,
     "status": "ok",
     "timestamp": 1609137218193,
     "user": {
      "displayName": "yoon scott",
      "photoUrl": "",
      "userId": "15551753620791483510"
     },
     "user_tz": -540
    },
    "id": "11D-1AHWDVkI",
    "outputId": "11a6b481-8b5c-45b8-de14-589a311f0063"
   },
   "outputs": [
    {
     "data": {
      "text/html": [
       "<div>\n",
       "<style scoped>\n",
       "    .dataframe tbody tr th:only-of-type {\n",
       "        vertical-align: middle;\n",
       "    }\n",
       "\n",
       "    .dataframe tbody tr th {\n",
       "        vertical-align: top;\n",
       "    }\n",
       "\n",
       "    .dataframe thead th {\n",
       "        text-align: right;\n",
       "    }\n",
       "</style>\n",
       "<table border=\"1\" class=\"dataframe\">\n",
       "  <thead>\n",
       "    <tr style=\"text-align: right;\">\n",
       "      <th></th>\n",
       "      <th>광고주</th>\n",
       "      <th>브랜드</th>\n",
       "      <th>시작일</th>\n",
       "      <th>종료일</th>\n",
       "      <th>Impression</th>\n",
       "      <th>Click</th>\n",
       "      <th>재생 완료</th>\n",
       "    </tr>\n",
       "  </thead>\n",
       "  <tbody>\n",
       "    <tr>\n",
       "      <th>3</th>\n",
       "      <td>NaN</td>\n",
       "      <td>브래드 4</td>\n",
       "      <td>2020-08-04</td>\n",
       "      <td>2020-08-10</td>\n",
       "      <td>1023737</td>\n",
       "      <td>5275.0</td>\n",
       "      <td>195422</td>\n",
       "    </tr>\n",
       "    <tr>\n",
       "      <th>4</th>\n",
       "      <td>㈜ DDD</td>\n",
       "      <td>브래드 5</td>\n",
       "      <td>2020-06-25</td>\n",
       "      <td>2020-08-19</td>\n",
       "      <td>1715</td>\n",
       "      <td>6.0</td>\n",
       "      <td>1091</td>\n",
       "    </tr>\n",
       "    <tr>\n",
       "      <th>5</th>\n",
       "      <td>㈜ EEE</td>\n",
       "      <td>브래드 6</td>\n",
       "      <td>2020-08-01</td>\n",
       "      <td>2020-08-31</td>\n",
       "      <td>5832</td>\n",
       "      <td>16.0</td>\n",
       "      <td>1264</td>\n",
       "    </tr>\n",
       "    <tr>\n",
       "      <th>6</th>\n",
       "      <td>㈜ FFF</td>\n",
       "      <td>브래드 7</td>\n",
       "      <td>2020-07-03</td>\n",
       "      <td>2020-08-17</td>\n",
       "      <td>1851</td>\n",
       "      <td>NaN</td>\n",
       "      <td>1123</td>\n",
       "    </tr>\n",
       "    <tr>\n",
       "      <th>7</th>\n",
       "      <td>㈜ GGG</td>\n",
       "      <td>브래드 8</td>\n",
       "      <td>2020-06-26</td>\n",
       "      <td>2020-08-31</td>\n",
       "      <td>63082</td>\n",
       "      <td>73.0</td>\n",
       "      <td>48945</td>\n",
       "    </tr>\n",
       "  </tbody>\n",
       "</table>\n",
       "</div>"
      ],
      "text/plain": [
       "     광고주    브랜드         시작일         종료일  Impression   Click   재생 완료\n",
       "3    NaN  브래드 4  2020-08-04  2020-08-10     1023737  5275.0  195422\n",
       "4  ㈜ DDD  브래드 5  2020-06-25  2020-08-19        1715     6.0    1091\n",
       "5  ㈜ EEE  브래드 6  2020-08-01  2020-08-31        5832    16.0    1264\n",
       "6  ㈜ FFF  브래드 7  2020-07-03  2020-08-17        1851     NaN    1123\n",
       "7  ㈜ GGG  브래드 8  2020-06-26  2020-08-31       63082    73.0   48945"
      ]
     },
     "execution_count": 5,
     "metadata": {
      "tags": []
     },
     "output_type": "execute_result"
    }
   ],
   "source": [
    "df.iloc[3:8, :]"
   ]
  },
  {
   "cell_type": "code",
   "execution_count": null,
   "metadata": {
    "colab": {
     "base_uri": "https://localhost:8080/",
     "height": 631
    },
    "executionInfo": {
     "elapsed": 809,
     "status": "ok",
     "timestamp": 1609137265586,
     "user": {
      "displayName": "yoon scott",
      "photoUrl": "",
      "userId": "15551753620791483510"
     },
     "user_tz": -540
    },
    "id": "u8FUxH6XDbWw",
    "outputId": "081b02cd-e2fb-4512-dcc6-a831f302f59e"
   },
   "outputs": [
    {
     "data": {
      "text/html": [
       "<div>\n",
       "<style scoped>\n",
       "    .dataframe tbody tr th:only-of-type {\n",
       "        vertical-align: middle;\n",
       "    }\n",
       "\n",
       "    .dataframe tbody tr th {\n",
       "        vertical-align: top;\n",
       "    }\n",
       "\n",
       "    .dataframe thead th {\n",
       "        text-align: right;\n",
       "    }\n",
       "</style>\n",
       "<table border=\"1\" class=\"dataframe\">\n",
       "  <thead>\n",
       "    <tr style=\"text-align: right;\">\n",
       "      <th></th>\n",
       "      <th>광고주</th>\n",
       "      <th>브랜드</th>\n",
       "      <th>시작일</th>\n",
       "    </tr>\n",
       "  </thead>\n",
       "  <tbody>\n",
       "    <tr>\n",
       "      <th>0</th>\n",
       "      <td>(유) AAA</td>\n",
       "      <td>브랜드 1</td>\n",
       "      <td>2020-08-01</td>\n",
       "    </tr>\n",
       "    <tr>\n",
       "      <th>1</th>\n",
       "      <td>㈜ BBB</td>\n",
       "      <td>브래드 2</td>\n",
       "      <td>2020-08-01</td>\n",
       "    </tr>\n",
       "    <tr>\n",
       "      <th>2</th>\n",
       "      <td>㈜ CCC</td>\n",
       "      <td>브래드 3</td>\n",
       "      <td>2020-07-24</td>\n",
       "    </tr>\n",
       "    <tr>\n",
       "      <th>3</th>\n",
       "      <td>NaN</td>\n",
       "      <td>브래드 4</td>\n",
       "      <td>2020-08-04</td>\n",
       "    </tr>\n",
       "    <tr>\n",
       "      <th>4</th>\n",
       "      <td>㈜ DDD</td>\n",
       "      <td>브래드 5</td>\n",
       "      <td>2020-06-25</td>\n",
       "    </tr>\n",
       "    <tr>\n",
       "      <th>5</th>\n",
       "      <td>㈜ EEE</td>\n",
       "      <td>브래드 6</td>\n",
       "      <td>2020-08-01</td>\n",
       "    </tr>\n",
       "    <tr>\n",
       "      <th>6</th>\n",
       "      <td>㈜ FFF</td>\n",
       "      <td>브래드 7</td>\n",
       "      <td>2020-07-03</td>\n",
       "    </tr>\n",
       "    <tr>\n",
       "      <th>7</th>\n",
       "      <td>㈜ GGG</td>\n",
       "      <td>브래드 8</td>\n",
       "      <td>2020-06-26</td>\n",
       "    </tr>\n",
       "    <tr>\n",
       "      <th>8</th>\n",
       "      <td>㈜ GGG</td>\n",
       "      <td>브래드 9</td>\n",
       "      <td>2020-08-01</td>\n",
       "    </tr>\n",
       "    <tr>\n",
       "      <th>9</th>\n",
       "      <td>㈜ GGG</td>\n",
       "      <td>브래드 10</td>\n",
       "      <td>2020-07-10</td>\n",
       "    </tr>\n",
       "    <tr>\n",
       "      <th>10</th>\n",
       "      <td>㈜ HHH</td>\n",
       "      <td>브래드 11</td>\n",
       "      <td>2020-08-01</td>\n",
       "    </tr>\n",
       "    <tr>\n",
       "      <th>11</th>\n",
       "      <td>NaN</td>\n",
       "      <td>브래드 12</td>\n",
       "      <td>2020-08-01</td>\n",
       "    </tr>\n",
       "    <tr>\n",
       "      <th>12</th>\n",
       "      <td>㈜ III</td>\n",
       "      <td>브래드 13</td>\n",
       "      <td>2020-08-01</td>\n",
       "    </tr>\n",
       "    <tr>\n",
       "      <th>13</th>\n",
       "      <td>㈜ JJJ</td>\n",
       "      <td>브래드 14</td>\n",
       "      <td>2020-08-01</td>\n",
       "    </tr>\n",
       "    <tr>\n",
       "      <th>14</th>\n",
       "      <td>㈜ KKK</td>\n",
       "      <td>브래드 15</td>\n",
       "      <td>2020-07-31</td>\n",
       "    </tr>\n",
       "    <tr>\n",
       "      <th>15</th>\n",
       "      <td>㈜ LLL</td>\n",
       "      <td>브래드 16</td>\n",
       "      <td>2020-07-01</td>\n",
       "    </tr>\n",
       "    <tr>\n",
       "      <th>16</th>\n",
       "      <td>㈜ MMM</td>\n",
       "      <td>브래드 17</td>\n",
       "      <td>2020-07-31</td>\n",
       "    </tr>\n",
       "    <tr>\n",
       "      <th>17</th>\n",
       "      <td>㈜ NNN</td>\n",
       "      <td>브래드 18</td>\n",
       "      <td>2020-07-10</td>\n",
       "    </tr>\n",
       "    <tr>\n",
       "      <th>18</th>\n",
       "      <td>㈜ OOO</td>\n",
       "      <td>브래드 19</td>\n",
       "      <td>2020-07-24</td>\n",
       "    </tr>\n",
       "  </tbody>\n",
       "</table>\n",
       "</div>"
      ],
      "text/plain": [
       "        광고주     브랜드         시작일\n",
       "0   (유) AAA   브랜드 1  2020-08-01\n",
       "1     ㈜ BBB   브래드 2  2020-08-01\n",
       "2     ㈜ CCC   브래드 3  2020-07-24\n",
       "3       NaN   브래드 4  2020-08-04\n",
       "4     ㈜ DDD   브래드 5  2020-06-25\n",
       "5     ㈜ EEE   브래드 6  2020-08-01\n",
       "6     ㈜ FFF   브래드 7  2020-07-03\n",
       "7     ㈜ GGG   브래드 8  2020-06-26\n",
       "8     ㈜ GGG   브래드 9  2020-08-01\n",
       "9     ㈜ GGG  브래드 10  2020-07-10\n",
       "10    ㈜ HHH  브래드 11  2020-08-01\n",
       "11      NaN  브래드 12  2020-08-01\n",
       "12    ㈜ III  브래드 13  2020-08-01\n",
       "13    ㈜ JJJ  브래드 14  2020-08-01\n",
       "14    ㈜ KKK  브래드 15  2020-07-31\n",
       "15    ㈜ LLL  브래드 16  2020-07-01\n",
       "16    ㈜ MMM  브래드 17  2020-07-31\n",
       "17    ㈜ NNN  브래드 18  2020-07-10\n",
       "18    ㈜ OOO  브래드 19  2020-07-24"
      ]
     },
     "execution_count": 6,
     "metadata": {
      "tags": []
     },
     "output_type": "execute_result"
    }
   ],
   "source": [
    "df.loc[:, ['광고주', '브랜드', '시작일']]"
   ]
  },
  {
   "cell_type": "code",
   "execution_count": null,
   "metadata": {
    "colab": {
     "base_uri": "https://localhost:8080/",
     "height": 171
    },
    "executionInfo": {
     "elapsed": 716,
     "status": "ok",
     "timestamp": 1609137290316,
     "user": {
      "displayName": "yoon scott",
      "photoUrl": "",
      "userId": "15551753620791483510"
     },
     "user_tz": -540
    },
    "id": "KcrFRhmADjuk",
    "outputId": "6c744167-cad4-4cf0-f279-e0a586db67c8"
   },
   "outputs": [
    {
     "data": {
      "text/html": [
       "<div>\n",
       "<style scoped>\n",
       "    .dataframe tbody tr th:only-of-type {\n",
       "        vertical-align: middle;\n",
       "    }\n",
       "\n",
       "    .dataframe tbody tr th {\n",
       "        vertical-align: top;\n",
       "    }\n",
       "\n",
       "    .dataframe thead th {\n",
       "        text-align: right;\n",
       "    }\n",
       "</style>\n",
       "<table border=\"1\" class=\"dataframe\">\n",
       "  <thead>\n",
       "    <tr style=\"text-align: right;\">\n",
       "      <th></th>\n",
       "      <th>브랜드</th>\n",
       "      <th>시작일</th>\n",
       "      <th>종료일</th>\n",
       "    </tr>\n",
       "  </thead>\n",
       "  <tbody>\n",
       "    <tr>\n",
       "      <th>2</th>\n",
       "      <td>브래드 3</td>\n",
       "      <td>2020-07-24</td>\n",
       "      <td>2020-08-31</td>\n",
       "    </tr>\n",
       "    <tr>\n",
       "      <th>3</th>\n",
       "      <td>브래드 4</td>\n",
       "      <td>2020-08-04</td>\n",
       "      <td>2020-08-10</td>\n",
       "    </tr>\n",
       "    <tr>\n",
       "      <th>4</th>\n",
       "      <td>브래드 5</td>\n",
       "      <td>2020-06-25</td>\n",
       "      <td>2020-08-19</td>\n",
       "    </tr>\n",
       "    <tr>\n",
       "      <th>5</th>\n",
       "      <td>브래드 6</td>\n",
       "      <td>2020-08-01</td>\n",
       "      <td>2020-08-31</td>\n",
       "    </tr>\n",
       "  </tbody>\n",
       "</table>\n",
       "</div>"
      ],
      "text/plain": [
       "     브랜드         시작일         종료일\n",
       "2  브래드 3  2020-07-24  2020-08-31\n",
       "3  브래드 4  2020-08-04  2020-08-10\n",
       "4  브래드 5  2020-06-25  2020-08-19\n",
       "5  브래드 6  2020-08-01  2020-08-31"
      ]
     },
     "execution_count": 7,
     "metadata": {
      "tags": []
     },
     "output_type": "execute_result"
    }
   ],
   "source": [
    "df.loc[2:5, '브랜드':'종료일']"
   ]
  },
  {
   "cell_type": "markdown",
   "metadata": {
    "id": "o4fYUAPADomE"
   },
   "source": [
    "###4) 조건을 추가해서 데이터 불러오기"
   ]
  },
  {
   "cell_type": "code",
   "execution_count": null,
   "metadata": {
    "colab": {
     "base_uri": "https://localhost:8080/",
     "height": 141
    },
    "executionInfo": {
     "elapsed": 790,
     "status": "ok",
     "timestamp": 1609137352373,
     "user": {
      "displayName": "yoon scott",
      "photoUrl": "",
      "userId": "15551753620791483510"
     },
     "user_tz": -540
    },
    "id": "tC6PWhu3DzFk",
    "outputId": "98a1bd47-0269-4115-d19e-ee66c53d2e94"
   },
   "outputs": [
    {
     "data": {
      "text/html": [
       "<div>\n",
       "<style scoped>\n",
       "    .dataframe tbody tr th:only-of-type {\n",
       "        vertical-align: middle;\n",
       "    }\n",
       "\n",
       "    .dataframe tbody tr th {\n",
       "        vertical-align: top;\n",
       "    }\n",
       "\n",
       "    .dataframe thead th {\n",
       "        text-align: right;\n",
       "    }\n",
       "</style>\n",
       "<table border=\"1\" class=\"dataframe\">\n",
       "  <thead>\n",
       "    <tr style=\"text-align: right;\">\n",
       "      <th></th>\n",
       "      <th>광고주</th>\n",
       "      <th>브랜드</th>\n",
       "      <th>시작일</th>\n",
       "      <th>종료일</th>\n",
       "      <th>Impression</th>\n",
       "      <th>Click</th>\n",
       "      <th>재생 완료</th>\n",
       "    </tr>\n",
       "  </thead>\n",
       "  <tbody>\n",
       "    <tr>\n",
       "      <th>3</th>\n",
       "      <td>NaN</td>\n",
       "      <td>브래드 4</td>\n",
       "      <td>2020-08-04</td>\n",
       "      <td>2020-08-10</td>\n",
       "      <td>1023737</td>\n",
       "      <td>5275.0</td>\n",
       "      <td>195422</td>\n",
       "    </tr>\n",
       "    <tr>\n",
       "      <th>8</th>\n",
       "      <td>㈜ GGG</td>\n",
       "      <td>브래드 9</td>\n",
       "      <td>2020-08-01</td>\n",
       "      <td>2020-10-14</td>\n",
       "      <td>28246</td>\n",
       "      <td>129.0</td>\n",
       "      <td>8624</td>\n",
       "    </tr>\n",
       "    <tr>\n",
       "      <th>12</th>\n",
       "      <td>㈜ III</td>\n",
       "      <td>브래드 13</td>\n",
       "      <td>2020-08-01</td>\n",
       "      <td>2020-08-31</td>\n",
       "      <td>144739</td>\n",
       "      <td>342.0</td>\n",
       "      <td>111435</td>\n",
       "    </tr>\n",
       "  </tbody>\n",
       "</table>\n",
       "</div>"
      ],
      "text/plain": [
       "      광고주     브랜드         시작일         종료일  Impression   Click   재생 완료\n",
       "3     NaN   브래드 4  2020-08-04  2020-08-10     1023737  5275.0  195422\n",
       "8   ㈜ GGG   브래드 9  2020-08-01  2020-10-14       28246   129.0    8624\n",
       "12  ㈜ III  브래드 13  2020-08-01  2020-08-31      144739   342.0  111435"
      ]
     },
     "execution_count": 8,
     "metadata": {
      "tags": []
     },
     "output_type": "execute_result"
    }
   ],
   "source": [
    "df.loc[df['Click'] > 100]"
   ]
  },
  {
   "cell_type": "code",
   "execution_count": null,
   "metadata": {
    "colab": {
     "base_uri": "https://localhost:8080/",
     "height": 141
    },
    "executionInfo": {
     "elapsed": 849,
     "status": "ok",
     "timestamp": 1609137394365,
     "user": {
      "displayName": "yoon scott",
      "photoUrl": "",
      "userId": "15551753620791483510"
     },
     "user_tz": -540
    },
    "id": "ztOHq2ebD3d1",
    "outputId": "315239e4-a2fe-4b1c-815e-df6d4d3bdb49"
   },
   "outputs": [
    {
     "data": {
      "text/html": [
       "<div>\n",
       "<style scoped>\n",
       "    .dataframe tbody tr th:only-of-type {\n",
       "        vertical-align: middle;\n",
       "    }\n",
       "\n",
       "    .dataframe tbody tr th {\n",
       "        vertical-align: top;\n",
       "    }\n",
       "\n",
       "    .dataframe thead th {\n",
       "        text-align: right;\n",
       "    }\n",
       "</style>\n",
       "<table border=\"1\" class=\"dataframe\">\n",
       "  <thead>\n",
       "    <tr style=\"text-align: right;\">\n",
       "      <th></th>\n",
       "      <th>광고주</th>\n",
       "      <th>시작일</th>\n",
       "    </tr>\n",
       "  </thead>\n",
       "  <tbody>\n",
       "    <tr>\n",
       "      <th>3</th>\n",
       "      <td>NaN</td>\n",
       "      <td>2020-08-04</td>\n",
       "    </tr>\n",
       "    <tr>\n",
       "      <th>8</th>\n",
       "      <td>㈜ GGG</td>\n",
       "      <td>2020-08-01</td>\n",
       "    </tr>\n",
       "    <tr>\n",
       "      <th>12</th>\n",
       "      <td>㈜ III</td>\n",
       "      <td>2020-08-01</td>\n",
       "    </tr>\n",
       "  </tbody>\n",
       "</table>\n",
       "</div>"
      ],
      "text/plain": [
       "      광고주         시작일\n",
       "3     NaN  2020-08-04\n",
       "8   ㈜ GGG  2020-08-01\n",
       "12  ㈜ III  2020-08-01"
      ]
     },
     "execution_count": 11,
     "metadata": {
      "tags": []
     },
     "output_type": "execute_result"
    }
   ],
   "source": [
    "df.loc[df['Click'] > 100, ['광고주', '시작일']]"
   ]
  }
 ],
 "metadata": {
  "colab": {
   "name": "4. 데이터 선택하기.ipynb",
   "provenance": []
  },
  "kernelspec": {
   "display_name": "Python 3 (ipykernel)",
   "language": "python",
   "name": "python3"
  },
  "language_info": {
   "codemirror_mode": {
    "name": "ipython",
    "version": 3
   },
   "file_extension": ".py",
   "mimetype": "text/x-python",
   "name": "python",
   "nbconvert_exporter": "python",
   "pygments_lexer": "ipython3",
   "version": "3.10.9"
  }
 },
 "nbformat": 4,
 "nbformat_minor": 1
}
