{
 "cells": [
  {
   "cell_type": "markdown",
   "metadata": {
    "id": "hJH7YshuHfT6"
   },
   "source": [
    "*\n",
    "## 프로그래밍 기반 데이터 전처리"
   ]
  },
  {
   "cell_type": "markdown",
   "metadata": {
    "id": "Smn6S5wqHzdo"
   },
   "source": [
    "###1) 결측값 처리"
   ]
  },
  {
   "cell_type": "code",
   "execution_count": 1,
   "metadata": {
    "executionInfo": {
     "elapsed": 3,
     "status": "ok",
     "timestamp": 1634122955098,
     "user": {
      "displayName": "KB B",
      "photoUrl": "https://lh3.googleusercontent.com/a/default-user=s64",
      "userId": "11354211341635718237"
     },
     "user_tz": -540
    },
    "id": "MKnqVcWRH2TO"
   },
   "outputs": [],
   "source": [
    "import pandas as pd"
   ]
  },
  {
   "cell_type": "code",
   "execution_count": 2,
   "metadata": {
    "executionInfo": {
     "elapsed": 377,
     "status": "ok",
     "timestamp": 1634122955473,
     "user": {
      "displayName": "KB B",
      "photoUrl": "https://lh3.googleusercontent.com/a/default-user=s64",
      "userId": "11354211341635718237"
     },
     "user_tz": -540
    },
    "id": "id_qaKioJp9H"
   },
   "outputs": [],
   "source": [
    "df = pd.read_csv('http://scottyoon.cafe24.com/data/brand_ad_ex.csv')"
   ]
  },
  {
   "cell_type": "code",
   "execution_count": 6,
   "metadata": {
    "colab": {
     "base_uri": "https://localhost:8080/"
    },
    "executionInfo": {
     "elapsed": 314,
     "status": "ok",
     "timestamp": 1634123084238,
     "user": {
      "displayName": "KB B",
      "photoUrl": "https://lh3.googleusercontent.com/a/default-user=s64",
      "userId": "11354211341635718237"
     },
     "user_tz": -540
    },
    "id": "UQE3VM0LJrt7",
    "outputId": "b0ab1fb3-9fb8-4cd5-db4b-aa38f234a967"
   },
   "outputs": [
    {
     "name": "stdout",
     "output_type": "stream",
     "text": [
      "<class 'pandas.core.frame.DataFrame'>\n",
      "RangeIndex: 19 entries, 0 to 18\n",
      "Data columns (total 7 columns):\n",
      " #   Column      Non-Null Count  Dtype  \n",
      "---  ------      --------------  -----  \n",
      " 0   광고주         17 non-null     object \n",
      " 1   브랜드         19 non-null     object \n",
      " 2   시작일         19 non-null     object \n",
      " 3   종료일         19 non-null     object \n",
      " 4   Impression  19 non-null     int64  \n",
      " 5   Click       17 non-null     float64\n",
      " 6   재생 완료       19 non-null     int64  \n",
      "dtypes: float64(1), int64(2), object(4)\n",
      "memory usage: 1.2+ KB\n"
     ]
    }
   ],
   "source": [
    "df.info()"
   ]
  },
  {
   "cell_type": "code",
   "execution_count": 4,
   "metadata": {
    "executionInfo": {
     "elapsed": 323,
     "status": "ok",
     "timestamp": 1634123024018,
     "user": {
      "displayName": "KB B",
      "photoUrl": "https://lh3.googleusercontent.com/a/default-user=s64",
      "userId": "11354211341635718237"
     },
     "user_tz": -540
    },
    "id": "mi4-T_aLJtoJ"
   },
   "outputs": [],
   "source": [
    "df2 = df.copy() # 원본 데이터는 유지"
   ]
  },
  {
   "cell_type": "code",
   "execution_count": 5,
   "metadata": {
    "colab": {
     "base_uri": "https://localhost:8080/"
    },
    "executionInfo": {
     "elapsed": 316,
     "status": "ok",
     "timestamp": 1634123056748,
     "user": {
      "displayName": "KB B",
      "photoUrl": "https://lh3.googleusercontent.com/a/default-user=s64",
      "userId": "11354211341635718237"
     },
     "user_tz": -540
    },
    "id": "fv6KWxn-Ju7X",
    "outputId": "138c9993-bd19-446a-e949-8a23efbd0a1c"
   },
   "outputs": [
    {
     "data": {
      "text/plain": [
       "0       72.0\n",
       "1       11.0\n",
       "2       25.0\n",
       "3     5275.0\n",
       "4        6.0\n",
       "5       16.0\n",
       "6        0.0\n",
       "7       73.0\n",
       "8      129.0\n",
       "9       34.0\n",
       "10      27.0\n",
       "11      35.0\n",
       "12     342.0\n",
       "13       2.0\n",
       "14      57.0\n",
       "15       0.0\n",
       "16      29.0\n",
       "17      68.0\n",
       "18      43.0\n",
       "Name: Click, dtype: float64"
      ]
     },
     "execution_count": 5,
     "metadata": {},
     "output_type": "execute_result"
    }
   ],
   "source": [
    "df2['Click'] = df2['Click'].fillna(0)   #결측값을 0으로 대체한다 \n",
    "df2['Click']"
   ]
  },
  {
   "cell_type": "code",
   "execution_count": 9,
   "metadata": {
    "executionInfo": {
     "elapsed": 308,
     "status": "ok",
     "timestamp": 1634123250595,
     "user": {
      "displayName": "KB B",
      "photoUrl": "https://lh3.googleusercontent.com/a/default-user=s64",
      "userId": "11354211341635718237"
     },
     "user_tz": -540
    },
    "id": "cC5vLT_2J4wm"
   },
   "outputs": [],
   "source": [
    "df3 = df.copy()"
   ]
  },
  {
   "cell_type": "code",
   "execution_count": 8,
   "metadata": {
    "colab": {
     "base_uri": "https://localhost:8080/"
    },
    "executionInfo": {
     "elapsed": 369,
     "status": "ok",
     "timestamp": 1634123193274,
     "user": {
      "displayName": "KB B",
      "photoUrl": "https://lh3.googleusercontent.com/a/default-user=s64",
      "userId": "11354211341635718237"
     },
     "user_tz": -540
    },
    "id": "dgUcj_KRJ7iH",
    "outputId": "5d7fe206-3605-4bbf-8b28-ff49f09c102d"
   },
   "outputs": [
    {
     "data": {
      "text/plain": [
       "0       72.000000\n",
       "1       11.000000\n",
       "2       25.000000\n",
       "3     5275.000000\n",
       "4        6.000000\n",
       "5       16.000000\n",
       "6      367.294118\n",
       "7       73.000000\n",
       "8      129.000000\n",
       "9       34.000000\n",
       "10      27.000000\n",
       "11      35.000000\n",
       "12     342.000000\n",
       "13       2.000000\n",
       "14      57.000000\n",
       "15     367.294118\n",
       "16      29.000000\n",
       "17      68.000000\n",
       "18      43.000000\n",
       "Name: Click, dtype: float64"
      ]
     },
     "execution_count": 8,
     "metadata": {},
     "output_type": "execute_result"
    }
   ],
   "source": [
    "click_mean = df3['Click'].mean()     # 결측값을 변수의 평균으로 설정함 \n",
    "df3['Click'] = df3['Click'].fillna(click_mean)\n",
    "df3['Click']"
   ]
  },
  {
   "cell_type": "code",
   "execution_count": 11,
   "metadata": {
    "colab": {
     "base_uri": "https://localhost:8080/"
    },
    "executionInfo": {
     "elapsed": 323,
     "status": "ok",
     "timestamp": 1634123295561,
     "user": {
      "displayName": "KB B",
      "photoUrl": "https://lh3.googleusercontent.com/a/default-user=s64",
      "userId": "11354211341635718237"
     },
     "user_tz": -540
    },
    "id": "LsjVxuviVSrx",
    "outputId": "1ff22686-14b1-4236-ef1e-e582ce0fe8d5"
   },
   "outputs": [
    {
     "data": {
      "text/plain": [
       "0       72.000000\n",
       "1       11.000000\n",
       "2       25.000000\n",
       "3     5275.000000\n",
       "4        6.000000\n",
       "5       16.000000\n",
       "6      367.294118\n",
       "7       73.000000\n",
       "8      129.000000\n",
       "9       34.000000\n",
       "10      27.000000\n",
       "11      35.000000\n",
       "12     342.000000\n",
       "13       2.000000\n",
       "14      57.000000\n",
       "15     367.294118\n",
       "16      29.000000\n",
       "17      68.000000\n",
       "18      43.000000\n",
       "Name: Click, dtype: float64"
      ]
     },
     "execution_count": 11,
     "metadata": {},
     "output_type": "execute_result"
    }
   ],
   "source": [
    "df3['Click'] = df3['Click'].fillna(df3['Click'].mean())   #위의 명령어를 한줄로 정리 \n",
    "df3['Click']"
   ]
  },
  {
   "cell_type": "code",
   "execution_count": null,
   "metadata": {
    "id": "pPhc3RLnVoBz"
   },
   "outputs": [],
   "source": []
  },
  {
   "cell_type": "code",
   "execution_count": 12,
   "metadata": {
    "executionInfo": {
     "elapsed": 305,
     "status": "ok",
     "timestamp": 1634123512019,
     "user": {
      "displayName": "KB B",
      "photoUrl": "https://lh3.googleusercontent.com/a/default-user=s64",
      "userId": "11354211341635718237"
     },
     "user_tz": -540
    },
    "id": "LhcibhvdKCuM"
   },
   "outputs": [],
   "source": [
    "df4 = df.copy()"
   ]
  },
  {
   "cell_type": "code",
   "execution_count": 13,
   "metadata": {
    "colab": {
     "base_uri": "https://localhost:8080/",
     "height": 514
    },
    "executionInfo": {
     "elapsed": 326,
     "status": "ok",
     "timestamp": 1634123564923,
     "user": {
      "displayName": "KB B",
      "photoUrl": "https://lh3.googleusercontent.com/a/default-user=s64",
      "userId": "11354211341635718237"
     },
     "user_tz": -540
    },
    "id": "0U_9hUF6KE_d",
    "outputId": "396d6aea-4f67-404f-e625-a97e3382b5ec"
   },
   "outputs": [
    {
     "data": {
      "text/html": [
       "<div>\n",
       "<style scoped>\n",
       "    .dataframe tbody tr th:only-of-type {\n",
       "        vertical-align: middle;\n",
       "    }\n",
       "\n",
       "    .dataframe tbody tr th {\n",
       "        vertical-align: top;\n",
       "    }\n",
       "\n",
       "    .dataframe thead th {\n",
       "        text-align: right;\n",
       "    }\n",
       "</style>\n",
       "<table border=\"1\" class=\"dataframe\">\n",
       "  <thead>\n",
       "    <tr style=\"text-align: right;\">\n",
       "      <th></th>\n",
       "      <th>광고주</th>\n",
       "      <th>브랜드</th>\n",
       "      <th>시작일</th>\n",
       "      <th>종료일</th>\n",
       "      <th>Impression</th>\n",
       "      <th>Click</th>\n",
       "      <th>재생 완료</th>\n",
       "    </tr>\n",
       "  </thead>\n",
       "  <tbody>\n",
       "    <tr>\n",
       "      <th>0</th>\n",
       "      <td>(유) AAA</td>\n",
       "      <td>브랜드 1</td>\n",
       "      <td>2020-08-01</td>\n",
       "      <td>2020-08-31</td>\n",
       "      <td>11615</td>\n",
       "      <td>72.0</td>\n",
       "      <td>1937</td>\n",
       "    </tr>\n",
       "    <tr>\n",
       "      <th>1</th>\n",
       "      <td>㈜ BBB</td>\n",
       "      <td>브래드 2</td>\n",
       "      <td>2020-08-01</td>\n",
       "      <td>2020-08-31</td>\n",
       "      <td>3077</td>\n",
       "      <td>11.0</td>\n",
       "      <td>2070</td>\n",
       "    </tr>\n",
       "    <tr>\n",
       "      <th>2</th>\n",
       "      <td>㈜ CCC</td>\n",
       "      <td>브래드 3</td>\n",
       "      <td>2020-07-24</td>\n",
       "      <td>2020-08-31</td>\n",
       "      <td>8107</td>\n",
       "      <td>25.0</td>\n",
       "      <td>5211</td>\n",
       "    </tr>\n",
       "    <tr>\n",
       "      <th>4</th>\n",
       "      <td>㈜ DDD</td>\n",
       "      <td>브래드 5</td>\n",
       "      <td>2020-06-25</td>\n",
       "      <td>2020-08-19</td>\n",
       "      <td>1715</td>\n",
       "      <td>6.0</td>\n",
       "      <td>1091</td>\n",
       "    </tr>\n",
       "    <tr>\n",
       "      <th>5</th>\n",
       "      <td>㈜ EEE</td>\n",
       "      <td>브래드 6</td>\n",
       "      <td>2020-08-01</td>\n",
       "      <td>2020-08-31</td>\n",
       "      <td>5832</td>\n",
       "      <td>16.0</td>\n",
       "      <td>1264</td>\n",
       "    </tr>\n",
       "    <tr>\n",
       "      <th>7</th>\n",
       "      <td>㈜ GGG</td>\n",
       "      <td>브래드 8</td>\n",
       "      <td>2020-06-26</td>\n",
       "      <td>2020-08-31</td>\n",
       "      <td>63082</td>\n",
       "      <td>73.0</td>\n",
       "      <td>48945</td>\n",
       "    </tr>\n",
       "    <tr>\n",
       "      <th>8</th>\n",
       "      <td>㈜ GGG</td>\n",
       "      <td>브래드 9</td>\n",
       "      <td>2020-08-01</td>\n",
       "      <td>2020-10-14</td>\n",
       "      <td>28246</td>\n",
       "      <td>129.0</td>\n",
       "      <td>8624</td>\n",
       "    </tr>\n",
       "    <tr>\n",
       "      <th>9</th>\n",
       "      <td>㈜ GGG</td>\n",
       "      <td>브래드 10</td>\n",
       "      <td>2020-07-10</td>\n",
       "      <td>2020-09-30</td>\n",
       "      <td>25170</td>\n",
       "      <td>34.0</td>\n",
       "      <td>14500</td>\n",
       "    </tr>\n",
       "    <tr>\n",
       "      <th>10</th>\n",
       "      <td>㈜ HHH</td>\n",
       "      <td>브래드 11</td>\n",
       "      <td>2020-08-01</td>\n",
       "      <td>2020-08-31</td>\n",
       "      <td>5674</td>\n",
       "      <td>27.0</td>\n",
       "      <td>1525</td>\n",
       "    </tr>\n",
       "    <tr>\n",
       "      <th>12</th>\n",
       "      <td>㈜ III</td>\n",
       "      <td>브래드 13</td>\n",
       "      <td>2020-08-01</td>\n",
       "      <td>2020-08-31</td>\n",
       "      <td>144739</td>\n",
       "      <td>342.0</td>\n",
       "      <td>111435</td>\n",
       "    </tr>\n",
       "    <tr>\n",
       "      <th>13</th>\n",
       "      <td>㈜ JJJ</td>\n",
       "      <td>브래드 14</td>\n",
       "      <td>2020-08-01</td>\n",
       "      <td>2020-08-31</td>\n",
       "      <td>2595</td>\n",
       "      <td>2.0</td>\n",
       "      <td>1929</td>\n",
       "    </tr>\n",
       "    <tr>\n",
       "      <th>14</th>\n",
       "      <td>㈜ KKK</td>\n",
       "      <td>브래드 15</td>\n",
       "      <td>2020-07-31</td>\n",
       "      <td>2020-08-20</td>\n",
       "      <td>16413</td>\n",
       "      <td>57.0</td>\n",
       "      <td>11269</td>\n",
       "    </tr>\n",
       "    <tr>\n",
       "      <th>16</th>\n",
       "      <td>㈜ MMM</td>\n",
       "      <td>브래드 17</td>\n",
       "      <td>2020-07-31</td>\n",
       "      <td>2020-08-13</td>\n",
       "      <td>6977</td>\n",
       "      <td>29.0</td>\n",
       "      <td>4286</td>\n",
       "    </tr>\n",
       "    <tr>\n",
       "      <th>17</th>\n",
       "      <td>㈜ NNN</td>\n",
       "      <td>브래드 18</td>\n",
       "      <td>2020-07-10</td>\n",
       "      <td>2020-08-08</td>\n",
       "      <td>6873</td>\n",
       "      <td>68.0</td>\n",
       "      <td>1728</td>\n",
       "    </tr>\n",
       "    <tr>\n",
       "      <th>18</th>\n",
       "      <td>㈜ OOO</td>\n",
       "      <td>브래드 19</td>\n",
       "      <td>2020-07-24</td>\n",
       "      <td>2020-08-31</td>\n",
       "      <td>15970</td>\n",
       "      <td>43.0</td>\n",
       "      <td>10961</td>\n",
       "    </tr>\n",
       "  </tbody>\n",
       "</table>\n",
       "</div>"
      ],
      "text/plain": [
       "        광고주     브랜드         시작일         종료일  Impression  Click   재생 완료\n",
       "0   (유) AAA   브랜드 1  2020-08-01  2020-08-31       11615   72.0    1937\n",
       "1     ㈜ BBB   브래드 2  2020-08-01  2020-08-31        3077   11.0    2070\n",
       "2     ㈜ CCC   브래드 3  2020-07-24  2020-08-31        8107   25.0    5211\n",
       "4     ㈜ DDD   브래드 5  2020-06-25  2020-08-19        1715    6.0    1091\n",
       "5     ㈜ EEE   브래드 6  2020-08-01  2020-08-31        5832   16.0    1264\n",
       "7     ㈜ GGG   브래드 8  2020-06-26  2020-08-31       63082   73.0   48945\n",
       "8     ㈜ GGG   브래드 9  2020-08-01  2020-10-14       28246  129.0    8624\n",
       "9     ㈜ GGG  브래드 10  2020-07-10  2020-09-30       25170   34.0   14500\n",
       "10    ㈜ HHH  브래드 11  2020-08-01  2020-08-31        5674   27.0    1525\n",
       "12    ㈜ III  브래드 13  2020-08-01  2020-08-31      144739  342.0  111435\n",
       "13    ㈜ JJJ  브래드 14  2020-08-01  2020-08-31        2595    2.0    1929\n",
       "14    ㈜ KKK  브래드 15  2020-07-31  2020-08-20       16413   57.0   11269\n",
       "16    ㈜ MMM  브래드 17  2020-07-31  2020-08-13        6977   29.0    4286\n",
       "17    ㈜ NNN  브래드 18  2020-07-10  2020-08-08        6873   68.0    1728\n",
       "18    ㈜ OOO  브래드 19  2020-07-24  2020-08-31       15970   43.0   10961"
      ]
     },
     "execution_count": 13,
     "metadata": {},
     "output_type": "execute_result"
    }
   ],
   "source": [
    "df4.dropna(how='any', inplace=True)     #any 는 하나라도 빠져있으면 제외 inplace=True 결측값을 없앤 것을 계속 없애는 것임\n",
    "df4"
   ]
  },
  {
   "cell_type": "code",
   "execution_count": 14,
   "metadata": {
    "colab": {
     "base_uri": "https://localhost:8080/",
     "height": 514
    },
    "executionInfo": {
     "elapsed": 322,
     "status": "ok",
     "timestamp": 1634123772691,
     "user": {
      "displayName": "KB B",
      "photoUrl": "https://lh3.googleusercontent.com/a/default-user=s64",
      "userId": "11354211341635718237"
     },
     "user_tz": -540
    },
    "id": "UfuPd5_uXaQy",
    "outputId": "8bda7b5b-c2fc-4e41-ffa1-5805f6249f2b"
   },
   "outputs": [
    {
     "data": {
      "text/html": [
       "<div>\n",
       "<style scoped>\n",
       "    .dataframe tbody tr th:only-of-type {\n",
       "        vertical-align: middle;\n",
       "    }\n",
       "\n",
       "    .dataframe tbody tr th {\n",
       "        vertical-align: top;\n",
       "    }\n",
       "\n",
       "    .dataframe thead th {\n",
       "        text-align: right;\n",
       "    }\n",
       "</style>\n",
       "<table border=\"1\" class=\"dataframe\">\n",
       "  <thead>\n",
       "    <tr style=\"text-align: right;\">\n",
       "      <th></th>\n",
       "      <th>광고주</th>\n",
       "      <th>브랜드</th>\n",
       "      <th>시작일</th>\n",
       "      <th>종료일</th>\n",
       "      <th>Impression</th>\n",
       "      <th>Click</th>\n",
       "      <th>재생 완료</th>\n",
       "    </tr>\n",
       "  </thead>\n",
       "  <tbody>\n",
       "    <tr>\n",
       "      <th>0</th>\n",
       "      <td>(유) AAA</td>\n",
       "      <td>브랜드 1</td>\n",
       "      <td>2020-08-01</td>\n",
       "      <td>2020-08-31</td>\n",
       "      <td>11615</td>\n",
       "      <td>72.0</td>\n",
       "      <td>1937</td>\n",
       "    </tr>\n",
       "    <tr>\n",
       "      <th>1</th>\n",
       "      <td>㈜ BBB</td>\n",
       "      <td>브래드 2</td>\n",
       "      <td>2020-08-01</td>\n",
       "      <td>2020-08-31</td>\n",
       "      <td>3077</td>\n",
       "      <td>11.0</td>\n",
       "      <td>2070</td>\n",
       "    </tr>\n",
       "    <tr>\n",
       "      <th>2</th>\n",
       "      <td>㈜ CCC</td>\n",
       "      <td>브래드 3</td>\n",
       "      <td>2020-07-24</td>\n",
       "      <td>2020-08-31</td>\n",
       "      <td>8107</td>\n",
       "      <td>25.0</td>\n",
       "      <td>5211</td>\n",
       "    </tr>\n",
       "    <tr>\n",
       "      <th>4</th>\n",
       "      <td>㈜ DDD</td>\n",
       "      <td>브래드 5</td>\n",
       "      <td>2020-06-25</td>\n",
       "      <td>2020-08-19</td>\n",
       "      <td>1715</td>\n",
       "      <td>6.0</td>\n",
       "      <td>1091</td>\n",
       "    </tr>\n",
       "    <tr>\n",
       "      <th>5</th>\n",
       "      <td>㈜ EEE</td>\n",
       "      <td>브래드 6</td>\n",
       "      <td>2020-08-01</td>\n",
       "      <td>2020-08-31</td>\n",
       "      <td>5832</td>\n",
       "      <td>16.0</td>\n",
       "      <td>1264</td>\n",
       "    </tr>\n",
       "    <tr>\n",
       "      <th>7</th>\n",
       "      <td>㈜ GGG</td>\n",
       "      <td>브래드 8</td>\n",
       "      <td>2020-06-26</td>\n",
       "      <td>2020-08-31</td>\n",
       "      <td>63082</td>\n",
       "      <td>73.0</td>\n",
       "      <td>48945</td>\n",
       "    </tr>\n",
       "    <tr>\n",
       "      <th>8</th>\n",
       "      <td>㈜ GGG</td>\n",
       "      <td>브래드 9</td>\n",
       "      <td>2020-08-01</td>\n",
       "      <td>2020-10-14</td>\n",
       "      <td>28246</td>\n",
       "      <td>129.0</td>\n",
       "      <td>8624</td>\n",
       "    </tr>\n",
       "    <tr>\n",
       "      <th>9</th>\n",
       "      <td>㈜ GGG</td>\n",
       "      <td>브래드 10</td>\n",
       "      <td>2020-07-10</td>\n",
       "      <td>2020-09-30</td>\n",
       "      <td>25170</td>\n",
       "      <td>34.0</td>\n",
       "      <td>14500</td>\n",
       "    </tr>\n",
       "    <tr>\n",
       "      <th>10</th>\n",
       "      <td>㈜ HHH</td>\n",
       "      <td>브래드 11</td>\n",
       "      <td>2020-08-01</td>\n",
       "      <td>2020-08-31</td>\n",
       "      <td>5674</td>\n",
       "      <td>27.0</td>\n",
       "      <td>1525</td>\n",
       "    </tr>\n",
       "    <tr>\n",
       "      <th>12</th>\n",
       "      <td>㈜ III</td>\n",
       "      <td>브래드 13</td>\n",
       "      <td>2020-08-01</td>\n",
       "      <td>2020-08-31</td>\n",
       "      <td>144739</td>\n",
       "      <td>342.0</td>\n",
       "      <td>111435</td>\n",
       "    </tr>\n",
       "    <tr>\n",
       "      <th>13</th>\n",
       "      <td>㈜ JJJ</td>\n",
       "      <td>브래드 14</td>\n",
       "      <td>2020-08-01</td>\n",
       "      <td>2020-08-31</td>\n",
       "      <td>2595</td>\n",
       "      <td>2.0</td>\n",
       "      <td>1929</td>\n",
       "    </tr>\n",
       "    <tr>\n",
       "      <th>14</th>\n",
       "      <td>㈜ KKK</td>\n",
       "      <td>브래드 15</td>\n",
       "      <td>2020-07-31</td>\n",
       "      <td>2020-08-20</td>\n",
       "      <td>16413</td>\n",
       "      <td>57.0</td>\n",
       "      <td>11269</td>\n",
       "    </tr>\n",
       "    <tr>\n",
       "      <th>16</th>\n",
       "      <td>㈜ MMM</td>\n",
       "      <td>브래드 17</td>\n",
       "      <td>2020-07-31</td>\n",
       "      <td>2020-08-13</td>\n",
       "      <td>6977</td>\n",
       "      <td>29.0</td>\n",
       "      <td>4286</td>\n",
       "    </tr>\n",
       "    <tr>\n",
       "      <th>17</th>\n",
       "      <td>㈜ NNN</td>\n",
       "      <td>브래드 18</td>\n",
       "      <td>2020-07-10</td>\n",
       "      <td>2020-08-08</td>\n",
       "      <td>6873</td>\n",
       "      <td>68.0</td>\n",
       "      <td>1728</td>\n",
       "    </tr>\n",
       "    <tr>\n",
       "      <th>18</th>\n",
       "      <td>㈜ OOO</td>\n",
       "      <td>브래드 19</td>\n",
       "      <td>2020-07-24</td>\n",
       "      <td>2020-08-31</td>\n",
       "      <td>15970</td>\n",
       "      <td>43.0</td>\n",
       "      <td>10961</td>\n",
       "    </tr>\n",
       "  </tbody>\n",
       "</table>\n",
       "</div>"
      ],
      "text/plain": [
       "        광고주     브랜드         시작일         종료일  Impression  Click   재생 완료\n",
       "0   (유) AAA   브랜드 1  2020-08-01  2020-08-31       11615   72.0    1937\n",
       "1     ㈜ BBB   브래드 2  2020-08-01  2020-08-31        3077   11.0    2070\n",
       "2     ㈜ CCC   브래드 3  2020-07-24  2020-08-31        8107   25.0    5211\n",
       "4     ㈜ DDD   브래드 5  2020-06-25  2020-08-19        1715    6.0    1091\n",
       "5     ㈜ EEE   브래드 6  2020-08-01  2020-08-31        5832   16.0    1264\n",
       "7     ㈜ GGG   브래드 8  2020-06-26  2020-08-31       63082   73.0   48945\n",
       "8     ㈜ GGG   브래드 9  2020-08-01  2020-10-14       28246  129.0    8624\n",
       "9     ㈜ GGG  브래드 10  2020-07-10  2020-09-30       25170   34.0   14500\n",
       "10    ㈜ HHH  브래드 11  2020-08-01  2020-08-31        5674   27.0    1525\n",
       "12    ㈜ III  브래드 13  2020-08-01  2020-08-31      144739  342.0  111435\n",
       "13    ㈜ JJJ  브래드 14  2020-08-01  2020-08-31        2595    2.0    1929\n",
       "14    ㈜ KKK  브래드 15  2020-07-31  2020-08-20       16413   57.0   11269\n",
       "16    ㈜ MMM  브래드 17  2020-07-31  2020-08-13        6977   29.0    4286\n",
       "17    ㈜ NNN  브래드 18  2020-07-10  2020-08-08        6873   68.0    1728\n",
       "18    ㈜ OOO  브래드 19  2020-07-24  2020-08-31       15970   43.0   10961"
      ]
     },
     "execution_count": 14,
     "metadata": {},
     "output_type": "execute_result"
    }
   ],
   "source": [
    "df4['Click'] = df4['Click'].dropna()   # click 변수의 결측값만 제외함 \n",
    "df4 "
   ]
  },
  {
   "cell_type": "markdown",
   "metadata": {
    "id": "8V9N-zVCKZmj"
   },
   "source": [
    "###2) 중복값 처리"
   ]
  },
  {
   "cell_type": "code",
   "execution_count": 15,
   "metadata": {
    "executionInfo": {
     "elapsed": 706,
     "status": "ok",
     "timestamp": 1634123820852,
     "user": {
      "displayName": "KB B",
      "photoUrl": "https://lh3.googleusercontent.com/a/default-user=s64",
      "userId": "11354211341635718237"
     },
     "user_tz": -540
    },
    "id": "Ig4pndGJKcIn"
   },
   "outputs": [],
   "source": [
    "df5 = df.copy()"
   ]
  },
  {
   "cell_type": "code",
   "execution_count": 16,
   "metadata": {
    "colab": {
     "base_uri": "https://localhost:8080/"
    },
    "executionInfo": {
     "elapsed": 597,
     "status": "ok",
     "timestamp": 1634123824164,
     "user": {
      "displayName": "KB B",
      "photoUrl": "https://lh3.googleusercontent.com/a/default-user=s64",
      "userId": "11354211341635718237"
     },
     "user_tz": -540
    },
    "id": "ewia9q8kKenv",
    "outputId": "f7140fec-17b5-4e83-a571-85696b6d11bf"
   },
   "outputs": [
    {
     "data": {
      "text/plain": [
       "0     (유) AAA\n",
       "1       ㈜ BBB\n",
       "2       ㈜ CCC\n",
       "3         NaN\n",
       "4       ㈜ DDD\n",
       "5       ㈜ EEE\n",
       "6       ㈜ FFF\n",
       "7       ㈜ GGG\n",
       "8       ㈜ GGG\n",
       "9       ㈜ GGG\n",
       "10      ㈜ HHH\n",
       "11        NaN\n",
       "12      ㈜ III\n",
       "13      ㈜ JJJ\n",
       "14      ㈜ KKK\n",
       "15      ㈜ LLL\n",
       "16      ㈜ MMM\n",
       "17      ㈜ NNN\n",
       "18      ㈜ OOO\n",
       "Name: 광고주, dtype: object"
      ]
     },
     "execution_count": 16,
     "metadata": {},
     "output_type": "execute_result"
    }
   ],
   "source": [
    "df5['광고주']"
   ]
  },
  {
   "cell_type": "code",
   "execution_count": 17,
   "metadata": {
    "colab": {
     "base_uri": "https://localhost:8080/"
    },
    "executionInfo": {
     "elapsed": 327,
     "status": "ok",
     "timestamp": 1634123840367,
     "user": {
      "displayName": "KB B",
      "photoUrl": "https://lh3.googleusercontent.com/a/default-user=s64",
      "userId": "11354211341635718237"
     },
     "user_tz": -540
    },
    "id": "upVKfvhGKyqM",
    "outputId": "9a993aa2-f0cb-4c42-8cd9-c9168d8d4072"
   },
   "outputs": [
    {
     "data": {
      "text/plain": [
       "0     (유) AAA\n",
       "1       ㈜ BBB\n",
       "2       ㈜ CCC\n",
       "3         NaN\n",
       "4       ㈜ DDD\n",
       "5       ㈜ EEE\n",
       "6       ㈜ FFF\n",
       "7       ㈜ GGG\n",
       "10      ㈜ HHH\n",
       "12      ㈜ III\n",
       "13      ㈜ JJJ\n",
       "14      ㈜ KKK\n",
       "15      ㈜ LLL\n",
       "16      ㈜ MMM\n",
       "17      ㈜ NNN\n",
       "18      ㈜ OOO\n",
       "Name: 광고주, dtype: object"
      ]
     },
     "execution_count": 17,
     "metadata": {},
     "output_type": "execute_result"
    }
   ],
   "source": [
    "df5['광고주'].drop_duplicates() "
   ]
  },
  {
   "cell_type": "code",
   "execution_count": null,
   "metadata": {
    "id": "tArskfk1K2RU"
   },
   "outputs": [],
   "source": [
    "df6 = df.copy()"
   ]
  },
  {
   "cell_type": "code",
   "execution_count": null,
   "metadata": {
    "colab": {
     "base_uri": "https://localhost:8080/",
     "height": 631
    },
    "executionInfo": {
     "elapsed": 771,
     "status": "ok",
     "timestamp": 1609139193436,
     "user": {
      "displayName": "yoon scott",
      "photoUrl": "",
      "userId": "15551753620791483510"
     },
     "user_tz": -540
    },
    "id": "9WyaIFXBK3fL",
    "outputId": "8d479526-4301-4efa-dfbf-2fc912754c4b"
   },
   "outputs": [
    {
     "data": {
      "text/html": [
       "<div>\n",
       "<style scoped>\n",
       "    .dataframe tbody tr th:only-of-type {\n",
       "        vertical-align: middle;\n",
       "    }\n",
       "\n",
       "    .dataframe tbody tr th {\n",
       "        vertical-align: top;\n",
       "    }\n",
       "\n",
       "    .dataframe thead th {\n",
       "        text-align: right;\n",
       "    }\n",
       "</style>\n",
       "<table border=\"1\" class=\"dataframe\">\n",
       "  <thead>\n",
       "    <tr style=\"text-align: right;\">\n",
       "      <th></th>\n",
       "      <th>광고주</th>\n",
       "      <th>브랜드</th>\n",
       "      <th>시작일</th>\n",
       "      <th>종료일</th>\n",
       "      <th>Impression</th>\n",
       "      <th>Click</th>\n",
       "      <th>재생 완료</th>\n",
       "    </tr>\n",
       "  </thead>\n",
       "  <tbody>\n",
       "    <tr>\n",
       "      <th>0</th>\n",
       "      <td>(유) AAA</td>\n",
       "      <td>브랜드 1</td>\n",
       "      <td>2020-08-01</td>\n",
       "      <td>2020-08-31</td>\n",
       "      <td>11615</td>\n",
       "      <td>72.0</td>\n",
       "      <td>1937</td>\n",
       "    </tr>\n",
       "    <tr>\n",
       "      <th>1</th>\n",
       "      <td>㈜ BBB</td>\n",
       "      <td>브래드 2</td>\n",
       "      <td>2020-08-01</td>\n",
       "      <td>2020-08-31</td>\n",
       "      <td>3077</td>\n",
       "      <td>11.0</td>\n",
       "      <td>2070</td>\n",
       "    </tr>\n",
       "    <tr>\n",
       "      <th>2</th>\n",
       "      <td>㈜ CCC</td>\n",
       "      <td>브래드 3</td>\n",
       "      <td>2020-07-24</td>\n",
       "      <td>2020-08-31</td>\n",
       "      <td>8107</td>\n",
       "      <td>25.0</td>\n",
       "      <td>5211</td>\n",
       "    </tr>\n",
       "    <tr>\n",
       "      <th>3</th>\n",
       "      <td>NaN</td>\n",
       "      <td>브래드 4</td>\n",
       "      <td>2020-08-04</td>\n",
       "      <td>2020-08-10</td>\n",
       "      <td>1023737</td>\n",
       "      <td>5275.0</td>\n",
       "      <td>195422</td>\n",
       "    </tr>\n",
       "    <tr>\n",
       "      <th>4</th>\n",
       "      <td>㈜ DDD</td>\n",
       "      <td>브래드 5</td>\n",
       "      <td>2020-06-25</td>\n",
       "      <td>2020-08-19</td>\n",
       "      <td>1715</td>\n",
       "      <td>6.0</td>\n",
       "      <td>1091</td>\n",
       "    </tr>\n",
       "    <tr>\n",
       "      <th>5</th>\n",
       "      <td>㈜ EEE</td>\n",
       "      <td>브래드 6</td>\n",
       "      <td>2020-08-01</td>\n",
       "      <td>2020-08-31</td>\n",
       "      <td>5832</td>\n",
       "      <td>16.0</td>\n",
       "      <td>1264</td>\n",
       "    </tr>\n",
       "    <tr>\n",
       "      <th>6</th>\n",
       "      <td>㈜ FFF</td>\n",
       "      <td>브래드 7</td>\n",
       "      <td>2020-07-03</td>\n",
       "      <td>2020-08-17</td>\n",
       "      <td>1851</td>\n",
       "      <td>NaN</td>\n",
       "      <td>1123</td>\n",
       "    </tr>\n",
       "    <tr>\n",
       "      <th>7</th>\n",
       "      <td>㈜ GGG</td>\n",
       "      <td>브래드 8</td>\n",
       "      <td>2020-06-26</td>\n",
       "      <td>2020-08-31</td>\n",
       "      <td>63082</td>\n",
       "      <td>73.0</td>\n",
       "      <td>48945</td>\n",
       "    </tr>\n",
       "    <tr>\n",
       "      <th>8</th>\n",
       "      <td>NaN</td>\n",
       "      <td>브래드 9</td>\n",
       "      <td>2020-08-01</td>\n",
       "      <td>2020-10-14</td>\n",
       "      <td>28246</td>\n",
       "      <td>129.0</td>\n",
       "      <td>8624</td>\n",
       "    </tr>\n",
       "    <tr>\n",
       "      <th>9</th>\n",
       "      <td>NaN</td>\n",
       "      <td>브래드 10</td>\n",
       "      <td>2020-07-10</td>\n",
       "      <td>2020-09-30</td>\n",
       "      <td>25170</td>\n",
       "      <td>34.0</td>\n",
       "      <td>14500</td>\n",
       "    </tr>\n",
       "    <tr>\n",
       "      <th>10</th>\n",
       "      <td>㈜ HHH</td>\n",
       "      <td>브래드 11</td>\n",
       "      <td>2020-08-01</td>\n",
       "      <td>2020-08-31</td>\n",
       "      <td>5674</td>\n",
       "      <td>27.0</td>\n",
       "      <td>1525</td>\n",
       "    </tr>\n",
       "    <tr>\n",
       "      <th>11</th>\n",
       "      <td>NaN</td>\n",
       "      <td>브래드 12</td>\n",
       "      <td>2020-08-01</td>\n",
       "      <td>2020-08-31</td>\n",
       "      <td>10869</td>\n",
       "      <td>35.0</td>\n",
       "      <td>8122</td>\n",
       "    </tr>\n",
       "    <tr>\n",
       "      <th>12</th>\n",
       "      <td>㈜ III</td>\n",
       "      <td>브래드 13</td>\n",
       "      <td>2020-08-01</td>\n",
       "      <td>2020-08-31</td>\n",
       "      <td>144739</td>\n",
       "      <td>342.0</td>\n",
       "      <td>111435</td>\n",
       "    </tr>\n",
       "    <tr>\n",
       "      <th>13</th>\n",
       "      <td>㈜ JJJ</td>\n",
       "      <td>브래드 14</td>\n",
       "      <td>2020-08-01</td>\n",
       "      <td>2020-08-31</td>\n",
       "      <td>2595</td>\n",
       "      <td>2.0</td>\n",
       "      <td>1929</td>\n",
       "    </tr>\n",
       "    <tr>\n",
       "      <th>14</th>\n",
       "      <td>㈜ KKK</td>\n",
       "      <td>브래드 15</td>\n",
       "      <td>2020-07-31</td>\n",
       "      <td>2020-08-20</td>\n",
       "      <td>16413</td>\n",
       "      <td>57.0</td>\n",
       "      <td>11269</td>\n",
       "    </tr>\n",
       "    <tr>\n",
       "      <th>15</th>\n",
       "      <td>㈜ LLL</td>\n",
       "      <td>브래드 16</td>\n",
       "      <td>2020-07-01</td>\n",
       "      <td>2020-08-16</td>\n",
       "      <td>33930</td>\n",
       "      <td>NaN</td>\n",
       "      <td>25111</td>\n",
       "    </tr>\n",
       "    <tr>\n",
       "      <th>16</th>\n",
       "      <td>㈜ MMM</td>\n",
       "      <td>브래드 17</td>\n",
       "      <td>2020-07-31</td>\n",
       "      <td>2020-08-13</td>\n",
       "      <td>6977</td>\n",
       "      <td>29.0</td>\n",
       "      <td>4286</td>\n",
       "    </tr>\n",
       "    <tr>\n",
       "      <th>17</th>\n",
       "      <td>㈜ NNN</td>\n",
       "      <td>브래드 18</td>\n",
       "      <td>2020-07-10</td>\n",
       "      <td>2020-08-08</td>\n",
       "      <td>6873</td>\n",
       "      <td>68.0</td>\n",
       "      <td>1728</td>\n",
       "    </tr>\n",
       "    <tr>\n",
       "      <th>18</th>\n",
       "      <td>㈜ OOO</td>\n",
       "      <td>브래드 19</td>\n",
       "      <td>2020-07-24</td>\n",
       "      <td>2020-08-31</td>\n",
       "      <td>15970</td>\n",
       "      <td>43.0</td>\n",
       "      <td>10961</td>\n",
       "    </tr>\n",
       "  </tbody>\n",
       "</table>\n",
       "</div>"
      ],
      "text/plain": [
       "        광고주     브랜드         시작일         종료일  Impression   Click   재생 완료\n",
       "0   (유) AAA   브랜드 1  2020-08-01  2020-08-31       11615    72.0    1937\n",
       "1     ㈜ BBB   브래드 2  2020-08-01  2020-08-31        3077    11.0    2070\n",
       "2     ㈜ CCC   브래드 3  2020-07-24  2020-08-31        8107    25.0    5211\n",
       "3       NaN   브래드 4  2020-08-04  2020-08-10     1023737  5275.0  195422\n",
       "4     ㈜ DDD   브래드 5  2020-06-25  2020-08-19        1715     6.0    1091\n",
       "5     ㈜ EEE   브래드 6  2020-08-01  2020-08-31        5832    16.0    1264\n",
       "6     ㈜ FFF   브래드 7  2020-07-03  2020-08-17        1851     NaN    1123\n",
       "7     ㈜ GGG   브래드 8  2020-06-26  2020-08-31       63082    73.0   48945\n",
       "8       NaN   브래드 9  2020-08-01  2020-10-14       28246   129.0    8624\n",
       "9       NaN  브래드 10  2020-07-10  2020-09-30       25170    34.0   14500\n",
       "10    ㈜ HHH  브래드 11  2020-08-01  2020-08-31        5674    27.0    1525\n",
       "11      NaN  브래드 12  2020-08-01  2020-08-31       10869    35.0    8122\n",
       "12    ㈜ III  브래드 13  2020-08-01  2020-08-31      144739   342.0  111435\n",
       "13    ㈜ JJJ  브래드 14  2020-08-01  2020-08-31        2595     2.0    1929\n",
       "14    ㈜ KKK  브래드 15  2020-07-31  2020-08-20       16413    57.0   11269\n",
       "15    ㈜ LLL  브래드 16  2020-07-01  2020-08-16       33930     NaN   25111\n",
       "16    ㈜ MMM  브래드 17  2020-07-31  2020-08-13        6977    29.0    4286\n",
       "17    ㈜ NNN  브래드 18  2020-07-10  2020-08-08        6873    68.0    1728\n",
       "18    ㈜ OOO  브래드 19  2020-07-24  2020-08-31       15970    43.0   10961"
      ]
     },
     "execution_count": 18,
     "metadata": {
      "tags": []
     },
     "output_type": "execute_result"
    }
   ],
   "source": [
    "df6['광고주'] = df6['광고주'].drop_duplicates(keep='first')\n",
    "df6"
   ]
  }
 ],
 "metadata": {
  "colab": {
   "name": "6. 결측값과 중복값 처리.ipynb",
   "provenance": []
  },
  "kernelspec": {
   "display_name": "Python 3 (ipykernel)",
   "language": "python",
   "name": "python3"
  },
  "language_info": {
   "codemirror_mode": {
    "name": "ipython",
    "version": 3
   },
   "file_extension": ".py",
   "mimetype": "text/x-python",
   "name": "python",
   "nbconvert_exporter": "python",
   "pygments_lexer": "ipython3",
   "version": "3.10.9"
  }
 },
 "nbformat": 4,
 "nbformat_minor": 1
}
